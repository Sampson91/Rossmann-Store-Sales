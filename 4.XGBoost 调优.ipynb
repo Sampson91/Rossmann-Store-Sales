{
 "cells": [
  {
   "cell_type": "markdown",
   "metadata": {},
   "source": [
    "## 本分对xgboost调优参考网易云课堂教程全栈数据工程师养成攻略的xgboost内容  （https://github.com/Honlan/fullstack-data-engineer/blob/master/data/Parameter_Tuning_XGBoost_with_Example/XGBoost_models.ipynb)"
   ]
  },
  {
   "cell_type": "code",
   "execution_count": 43,
   "metadata": {
    "collapsed": true
   },
   "outputs": [],
   "source": [
    "import pandas as pd\n",
    "import datetime\n",
    "import csv\n",
    "import numpy as np\n",
    "import xgboost as xgb\n",
    "import itertools\n",
    "import os\n",
    "import warnings\n",
    "warnings.filterwarnings('ignore')\n",
    "from sklearn.metrics import r2_score,mean_squared_error\n",
    "from sklearn.preprocessing import StandardScaler,LabelEncoder\n",
    "from sklearn.base import TransformerMixin\n",
    "from sklearn import cross_validation, metrics\n",
    "from matplotlib import pylab as plt\n",
    "plot = True\n",
    "goal = 'Sales'\n",
    "myid = 'Id'\n",
    "\n",
    "import pandas as pd\n",
    "import numpy as np\n",
    "import xgboost as xgb\n",
    "from xgboost.sklearn import XGBClassifier\n",
    "from sklearn import cross_validation, metrics\n",
    "from sklearn.grid_search import GridSearchCV\n",
    "\n",
    "import matplotlib.pylab as plt\n",
    "%matplotlib inline\n",
    "from matplotlib.pylab import rcParams\n",
    "rcParams['figure.figsize'] = 12, 4"
   ]
  },
  {
   "cell_type": "markdown",
   "metadata": {},
   "source": [
    "# 数据导入"
   ]
  },
  {
   "cell_type": "code",
   "execution_count": 44,
   "metadata": {
    "collapsed": true
   },
   "outputs": [],
   "source": [
    "def get_data():\n",
    "    store = pd.read_csv('./store.csv')\n",
    "    train_org = pd.read_csv('./train.csv',dtype={'StateHoliday':pd.np.string_})\n",
    "    test_org = pd.read_csv('./test.csv',dtype={'StateHoliday':pd.np.string_})\n",
    "    train = pd.merge(train_org,store,on='Store',how='left')\n",
    "    test = pd.merge(test_org,store,on='Store',how='left')\n",
    "    feature = test.columns.tolist()\n",
    "    numerics = ['int16','int32','int64','float16','float32','float64']\n",
    "    feature_numeric = test.select_dtypes(include = numerics).columns.tolist()\n",
    "    feature_non_numeric = [f for f in feature if f not in feature_numeric]\n",
    "    return (train,test,feature,feature_non_numeric)"
   ]
  },
  {
   "cell_type": "markdown",
   "metadata": {},
   "source": [
    "# 数据处理"
   ]
  },
  {
   "cell_type": "code",
   "execution_count": 45,
   "metadata": {
    "collapsed": true
   },
   "outputs": [],
   "source": [
    "def process_data(train,test,features,features_no):\n",
    "    train = train[train['Open']==1]\n",
    "    \n",
    "    test = test[test['Open']==1]\n",
    "    for rossm in [train,test]:\n",
    "        rossm['year'] = rossm.Date.apply(lambda x: int(x.split('-')[0]))\n",
    "        rossm['month']= rossm.Date.apply(lambda x: int(x.split('-')[1]))\n",
    "        rossm['day']  = rossm.Date.apply(lambda x: int(x.split('-')[2]))\n",
    "\n",
    "        rossm['promojan'] = rossm.PromoInterval.apply(lambda x:0 if isinstance(x,float) else 1 if 'Jan' in x else 0)\n",
    "        rossm['promofeb'] = rossm.PromoInterval.apply(lambda x:0 if isinstance(x,float) else 1 if 'Feb' in x else 0)\n",
    "        rossm['promomar'] = rossm.PromoInterval.apply(lambda x:0 if isinstance(x,float) else 1 if 'Mar' in x else 0)\n",
    "        rossm['promoapr'] = rossm.PromoInterval.apply(lambda x:0 if isinstance(x,float) else 1 if 'Apr' in x else 0)\n",
    "        rossm['promomay'] = rossm.PromoInterval.apply(lambda x:0 if isinstance(x,float) else 1 if 'May' in x else 0)\n",
    "        rossm['promojun'] = rossm.PromoInterval.apply(lambda x:0 if isinstance(x,float) else 1 if 'Jun' in x else 0)\n",
    "        rossm['promojul'] = rossm.PromoInterval.apply(lambda x:0 if isinstance(x,float) else 1 if 'Jul' in x else 0)\n",
    "        rossm['promoaug'] = rossm.PromoInterval.apply(lambda x:0 if isinstance(x,float) else 1 if 'Aug' in x else 0)\n",
    "        rossm['promosep'] = rossm.PromoInterval.apply(lambda x:0 if isinstance(x,float) else 1 if 'Sep' in x else 0)\n",
    "        rossm['promooct'] = rossm.PromoInterval.apply(lambda x:0 if isinstance(x,float) else 1 if 'Oct' in x else 0)\n",
    "        rossm['promonov'] = rossm.PromoInterval.apply(lambda x:0 if isinstance(x,float) else 1 if 'Nov' in x else 0)\n",
    "        rossm['promodec'] = rossm.PromoInterval.apply(lambda x:0 if isinstance(x,float) else 1 if 'Dec' in x else 0)\n",
    "    \n",
    "    day_dummies = pd.get_dummies(train['DayOfWeek'],prefix='Day')\n",
    "    day_dummies.drop(['Day_7'],axis=1,inplace=True)  #删除周日的数据\n",
    "    train = train.join(day_dummies)\n",
    "\n",
    "    \n",
    "    day_dummies_test = pd.get_dummies(test['DayOfWeek'],prefix='Day')\n",
    "    day_dummies_test.drop(['Day_7'],axis=1,inplace=True)  #删除周日数据\n",
    "    test = test.join(day_dummies_test)\n",
    "    \n",
    "    noisy_features = [myid,'Date','Store']\n",
    "    features = [c for c in features if c not in noisy_features]\n",
    "    features_non_numeric = [c for c in features_no if c not in noisy_features]\n",
    "    features.extend(['year','month','day'])\n",
    "    class DataFrameInputer(TransformerMixin):\n",
    "        def __init__(self):\n",
    "                \"\"\"\n",
    "                \"\"\"\n",
    "        def fit(self,X,y=None):\n",
    "            self.fill = pd.Series([X[c].value_counts().index[0] \n",
    "                                  if X[c].dtype==np.dtype('O') \n",
    "                                   else X[c].mean() for c in X],index = X.columns)\n",
    "            return self\n",
    "        def transform(self,X,y=None):\n",
    "            return X.fillna(self.fill)\n",
    "        \n",
    "    train = DataFrameInputer().fit_transform(train)\n",
    "    test  = DataFrameInputer().fit_transform(test)\n",
    "        \n",
    "    le = LabelEncoder()\n",
    "    for col in features:\n",
    "        le.fit(list(train[col])+list(test[col]))\n",
    "        train[col] = le.transform(train[col])\n",
    "        test[col] = le.transform(test[col])\n",
    "        \n",
    "    scaler = StandardScaler()\n",
    "    for col in set(features) - set(features_no) - set([]):\n",
    "        try:\n",
    "            scaler.fit(list(train[col])+list(test[col]))\n",
    "        except:\n",
    "            print(col)\n",
    "        train[col] = scaler.transform(train[col])\n",
    "        test[col] = scaler.transform(test[col])\n",
    "    return (train,test,features,features_no)    \n",
    "       \n",
    "    "
   ]
  },
  {
   "cell_type": "markdown",
   "metadata": {},
   "source": [
    "# train,test 数据获取"
   ]
  },
  {
   "cell_type": "code",
   "execution_count": 46,
   "metadata": {
    "collapsed": true
   },
   "outputs": [],
   "source": [
    "train,test,features,features_non_numeric = get_data()\n",
    "\n",
    "train,test,features,features_non_numeric = process_data(train,test,features,features_non_numeric)\n",
    "a1 = train.columns\n",
    "a2 = ['Date','Sales','Customers','DayOfWeek']\n",
    "a1 = [f for f in a1 if f not in a2]\n",
    "# XGB_native(train,test,a1,features_non_numeric)\n",
    "rossm_train = dict(list(train.groupby('Store')))\n",
    "rossm_test = dict(list(test.groupby('Store')))"
   ]
  },
  {
   "cell_type": "markdown",
   "metadata": {},
   "source": [
    "# 查看模型ntree数量和准确率函数"
   ]
  },
  {
   "cell_type": "code",
   "execution_count": 31,
   "metadata": {
    "collapsed": true
   },
   "outputs": [],
   "source": [
    "def modelfit(xgb1,train,test,features,useTranCv=True,cv_folds = 6,early_stopping_rounds = 50):\n",
    "    if useTranCv:\n",
    "        xgb_param = xgb1.get_xgb_params()\n",
    "        xgtrain = xgb.DMatrix(train[features].values,label=train[goal])\n",
    "        xgtest = xgb.DMatrix(train[features].values)\n",
    "        cvresult = xgb.cv(xgb_param,xgtrain,num_boost_round=xgb1.get_params()['n_estimators'],nfold=cv_folds,\n",
    "                    early_stopping_rounds = early_stopping_rounds)\n",
    "        print(cvresult.shape[0])\n",
    "        xgb1.set_params(n_estimators = cvresult.shape[0])\n",
    "        \n",
    "    xgb1.fit(train[features],train[goal])\n",
    "    train_predict = xgb1.predict(train[features])\n",
    "#     train_predprob = xgb1.predict_proba(train[features])[:,1]\n",
    "    \n",
    "    print('\\n Model Report')\n",
    "    print('Accuray: %.4g' % metrics.r2_score(train[goal].values,train_predict))\n",
    "    \n",
    "    feat_imp = pd.Series(xgb1.booster().get_score(importance_type='weight')).sort_values(ascending=False)\n",
    "    feat_imp.plot(kind='bar',title=\"feature importances\")\n",
    "    plt.ylabel('feature importance score')"
   ]
  },
  {
   "cell_type": "code",
   "execution_count": 48,
   "metadata": {
    "scrolled": false
   },
   "outputs": [
    {
     "name": "stdout",
     "output_type": "stream",
     "text": [
      "1000\n",
      "\n",
      " Model Report\n",
      "Accuray: 0.9017\n",
      "0.5\n"
     ]
    },
    {
     "data": {
      "image/png": "[encoded data removed]",
      "text/plain": [
       "<matplotlib.figure.Figure at 0x7f6c38e99490>"
      ]
     },
     "metadata": {},
     "output_type": "display_data"
    }
   ],
   "source": [
    "xgb1 = xgb.XGBRegressor(learning_rate=0.1,n_estimators=1000,max_depth=5,\n",
    "                        min_child_weight=1,gamma=0,\n",
    "                        subsample=0.8,colsample_bytree=0.8,\n",
    "                        nthread=4,scale_pos_weight=1,seed=27\n",
    "                        )\n",
    "\n",
    "# modelfit(xgb1,rossm_train[8],rossm_test[8],a1)\n",
    "modelfit(xgb1,train,test,a1)\n",
    "print xgb1.base_score"
   ]
  },
  {
   "cell_type": "code",
   "execution_count": 60,
   "metadata": {},
   "outputs": [
    {
     "data": {
      "text/html": [
       "<div>\n",
       "<style>\n",
       "    .dataframe thead tr:only-child th {\n",
       "        text-align: right;\n",
       "    }\n",
       "\n",
       "    .dataframe thead th {\n",
       "        text-align: left;\n",
       "    }\n",
       "\n",
       "    .dataframe tbody tr th {\n",
       "        vertical-align: top;\n",
       "    }\n",
       "</style>\n",
       "<table border=\"1\" class=\"dataframe\">\n",
       "  <thead>\n",
       "    <tr style=\"text-align: right;\">\n",
       "      <th></th>\n",
       "      <th>Store</th>\n",
       "      <th>DayOfWeek</th>\n",
       "      <th>Date</th>\n",
       "      <th>Sales</th>\n",
       "      <th>Customers</th>\n",
       "      <th>Open</th>\n",
       "      <th>Promo</th>\n",
       "      <th>StateHoliday</th>\n",
       "      <th>SchoolHoliday</th>\n",
       "      <th>StoreType</th>\n",
       "      <th>...</th>\n",
       "      <th>promosep</th>\n",
       "      <th>promooct</th>\n",
       "      <th>promonov</th>\n",
       "      <th>promodec</th>\n",
       "      <th>Day_1</th>\n",
       "      <th>Day_2</th>\n",
       "      <th>Day_3</th>\n",
       "      <th>Day_4</th>\n",
       "      <th>Day_5</th>\n",
       "      <th>Day_6</th>\n",
       "    </tr>\n",
       "  </thead>\n",
       "  <tbody>\n",
       "    <tr>\n",
       "      <th>0</th>\n",
       "      <td>1</td>\n",
       "      <td>0.859568</td>\n",
       "      <td>2015-07-31</td>\n",
       "      <td>5263</td>\n",
       "      <td>555</td>\n",
       "      <td>0.0</td>\n",
       "      <td>1.112230</td>\n",
       "      <td>0</td>\n",
       "      <td>1.964251</td>\n",
       "      <td>2</td>\n",
       "      <td>...</td>\n",
       "      <td>0</td>\n",
       "      <td>0</td>\n",
       "      <td>0</td>\n",
       "      <td>0</td>\n",
       "      <td>0</td>\n",
       "      <td>0</td>\n",
       "      <td>0</td>\n",
       "      <td>0</td>\n",
       "      <td>1</td>\n",
       "      <td>0</td>\n",
       "    </tr>\n",
       "    <tr>\n",
       "      <th>739575</th>\n",
       "      <td>1</td>\n",
       "      <td>0.859568</td>\n",
       "      <td>2013-09-06</td>\n",
       "      <td>3836</td>\n",
       "      <td>466</td>\n",
       "      <td>0.0</td>\n",
       "      <td>-0.899095</td>\n",
       "      <td>0</td>\n",
       "      <td>-0.509100</td>\n",
       "      <td>2</td>\n",
       "      <td>...</td>\n",
       "      <td>0</td>\n",
       "      <td>0</td>\n",
       "      <td>0</td>\n",
       "      <td>0</td>\n",
       "      <td>0</td>\n",
       "      <td>0</td>\n",
       "      <td>0</td>\n",
       "      <td>0</td>\n",
       "      <td>1</td>\n",
       "      <td>0</td>\n",
       "    </tr>\n",
       "    <tr>\n",
       "      <th>740690</th>\n",
       "      <td>1</td>\n",
       "      <td>0.279410</td>\n",
       "      <td>2013-09-05</td>\n",
       "      <td>3883</td>\n",
       "      <td>465</td>\n",
       "      <td>0.0</td>\n",
       "      <td>-0.899095</td>\n",
       "      <td>0</td>\n",
       "      <td>-0.509100</td>\n",
       "      <td>2</td>\n",
       "      <td>...</td>\n",
       "      <td>0</td>\n",
       "      <td>0</td>\n",
       "      <td>0</td>\n",
       "      <td>0</td>\n",
       "      <td>0</td>\n",
       "      <td>0</td>\n",
       "      <td>0</td>\n",
       "      <td>1</td>\n",
       "      <td>0</td>\n",
       "      <td>0</td>\n",
       "    </tr>\n",
       "    <tr>\n",
       "      <th>741805</th>\n",
       "      <td>1</td>\n",
       "      <td>-0.300749</td>\n",
       "      <td>2013-09-04</td>\n",
       "      <td>3343</td>\n",
       "      <td>444</td>\n",
       "      <td>0.0</td>\n",
       "      <td>-0.899095</td>\n",
       "      <td>0</td>\n",
       "      <td>-0.509100</td>\n",
       "      <td>2</td>\n",
       "      <td>...</td>\n",
       "      <td>0</td>\n",
       "      <td>0</td>\n",
       "      <td>0</td>\n",
       "      <td>0</td>\n",
       "      <td>0</td>\n",
       "      <td>0</td>\n",
       "      <td>1</td>\n",
       "      <td>0</td>\n",
       "      <td>0</td>\n",
       "      <td>0</td>\n",
       "    </tr>\n",
       "    <tr>\n",
       "      <th>81395</th>\n",
       "      <td>1</td>\n",
       "      <td>-0.880907</td>\n",
       "      <td>2015-05-19</td>\n",
       "      <td>5235</td>\n",
       "      <td>546</td>\n",
       "      <td>0.0</td>\n",
       "      <td>1.112230</td>\n",
       "      <td>0</td>\n",
       "      <td>-0.509100</td>\n",
       "      <td>2</td>\n",
       "      <td>...</td>\n",
       "      <td>0</td>\n",
       "      <td>0</td>\n",
       "      <td>0</td>\n",
       "      <td>0</td>\n",
       "      <td>0</td>\n",
       "      <td>1</td>\n",
       "      <td>0</td>\n",
       "      <td>0</td>\n",
       "      <td>0</td>\n",
       "      <td>0</td>\n",
       "    </tr>\n",
       "  </tbody>\n",
       "</table>\n",
       "<p>5 rows × 39 columns</p>\n",
       "</div>"
      ],
      "text/plain": [
       "        Store  DayOfWeek        Date  Sales  Customers  Open     Promo  \\\n",
       "0           1   0.859568  2015-07-31   5263        555   0.0  1.112230   \n",
       "739575      1   0.859568  2013-09-06   3836        466   0.0 -0.899095   \n",
       "740690      1   0.279410  2013-09-05   3883        465   0.0 -0.899095   \n",
       "741805      1  -0.300749  2013-09-04   3343        444   0.0 -0.899095   \n",
       "81395       1  -0.880907  2015-05-19   5235        546   0.0  1.112230   \n",
       "\n",
       "        StateHoliday  SchoolHoliday  StoreType  ...    promosep  promooct  \\\n",
       "0                  0       1.964251          2  ...           0         0   \n",
       "739575             0      -0.509100          2  ...           0         0   \n",
       "740690             0      -0.509100          2  ...           0         0   \n",
       "741805             0      -0.509100          2  ...           0         0   \n",
       "81395              0      -0.509100          2  ...           0         0   \n",
       "\n",
       "        promonov  promodec  Day_1  Day_2  Day_3  Day_4  Day_5  Day_6  \n",
       "0              0         0      0      0      0      0      1      0  \n",
       "739575         0         0      0      0      0      0      1      0  \n",
       "740690         0         0      0      0      0      1      0      0  \n",
       "741805         0         0      0      0      1      0      0      0  \n",
       "81395          0         0      0      1      0      0      0      0  \n",
       "\n",
       "[5 rows x 39 columns]"
      ]
     },
     "execution_count": 60,
     "metadata": {},
     "output_type": "execute_result"
    }
   ],
   "source": [
    "train.sort_values('Store').head()"
   ]
  },
  {
   "cell_type": "code",
   "execution_count": 67,
   "metadata": {},
   "outputs": [
    {
     "name": "stdout",
     "output_type": "stream",
     "text": [
      "('XGboost', -1.2685671485852055)\n",
      "0.5\n"
     ]
    }
   ],
   "source": [
    "# store = rossm_train[8]\n",
    "store = train.sort_values('Store').loc[:1000]\n",
    "y = store['Sales']\n",
    "x = store.drop(['Sales','Customers','Date'],axis=1)\n",
    "X_train,X_test,y_train,y_test = cross_validation.train_test_split(x,y,test_size=0.3)\n",
    "clf_e = xgb.XGBRegressor()\n",
    "clf_e.fit(X_train,y_train)\n",
    "\n",
    "print('XGboost',r2_score(clf_e.predict(X_test),y_test))\n",
    "print clf_e.base_score"
   ]
  },
  {
   "cell_type": "markdown",
   "metadata": {},
   "source": [
    "# 对max_depth和min_child_weight调优"
   ]
  },
  {
   "cell_type": "code",
   "execution_count": 68,
   "metadata": {},
   "outputs": [
    {
     "data": {
      "text/plain": [
       "GridSearchCV(cv=6, error_score='raise',\n",
       "       estimator=XGBRegressor(base_score=0.5, colsample_bylevel=1, colsample_bytree=0.8,\n",
       "       gamma=0, learning_rate=0.1, max_delta_step=0, max_depth=3,\n",
       "       min_child_weight=1, missing=None, n_estimators=1000, nthread=4,\n",
       "       objective='reg:linear', reg_alpha=0, reg_lambda=1,\n",
       "       scale_pos_weight=1, seed=27, silent=True, subsample=0.8),\n",
       "       fit_params={}, iid=False, n_jobs=-1,\n",
       "       param_grid={'max_depth': [7, 9, 11, 13], 'min_child_weight': [1, 3, 5]},\n",
       "       pre_dispatch='2*n_jobs', refit=True, scoring='r2', verbose=0)"
      ]
     },
     "execution_count": 68,
     "metadata": {},
     "output_type": "execute_result"
    }
   ],
   "source": [
    "param_test1 = {'max_depth':range(7,15,2),'min_child_weight':range(1,6,2)}\n",
    "xgb1 = xgb.XGBRegressor(learning_rate=0.1,n_estimators=1000,gamma=0,\n",
    "                        subsample=0.8,colsample_bytree=0.8,\n",
    "                        nthread=4,scale_pos_weight=1,seed=27\n",
    "                        )\n",
    "gsearch1 = GridSearchCV(xgb1,param_grid=param_test1,scoring='r2',n_jobs=-1,iid=False,cv=6)\n",
    "gsearch1.fit(x,y)"
   ]
  },
  {
   "cell_type": "code",
   "execution_count": 69,
   "metadata": {},
   "outputs": [
    {
     "data": {
      "text/plain": [
       "([mean: 0.19681, std: 0.05881, params: {'max_depth': 7, 'min_child_weight': 1},\n",
       "  mean: 0.20865, std: 0.06232, params: {'max_depth': 7, 'min_child_weight': 3},\n",
       "  mean: 0.22162, std: 0.05002, params: {'max_depth': 7, 'min_child_weight': 5},\n",
       "  mean: 0.19996, std: 0.04299, params: {'max_depth': 9, 'min_child_weight': 1},\n",
       "  mean: 0.20381, std: 0.04756, params: {'max_depth': 9, 'min_child_weight': 3},\n",
       "  mean: 0.19306, std: 0.05627, params: {'max_depth': 9, 'min_child_weight': 5},\n",
       "  mean: 0.21312, std: 0.06066, params: {'max_depth': 11, 'min_child_weight': 1},\n",
       "  mean: 0.20880, std: 0.05513, params: {'max_depth': 11, 'min_child_weight': 3},\n",
       "  mean: 0.21822, std: 0.05189, params: {'max_depth': 11, 'min_child_weight': 5},\n",
       "  mean: 0.20689, std: 0.05362, params: {'max_depth': 13, 'min_child_weight': 1},\n",
       "  mean: 0.20926, std: 0.05678, params: {'max_depth': 13, 'min_child_weight': 3},\n",
       "  mean: 0.21218, std: 0.05639, params: {'max_depth': 13, 'min_child_weight': 5}],\n",
       " {'max_depth': 7, 'min_child_weight': 5},\n",
       " 0.2216150317931808)"
      ]
     },
     "execution_count": 69,
     "metadata": {},
     "output_type": "execute_result"
    }
   ],
   "source": [
    "gsearch1.grid_scores_, gsearch1.best_params_, gsearch1.best_score_"
   ]
  },
  {
   "cell_type": "code",
   "execution_count": 70,
   "metadata": {},
   "outputs": [
    {
     "data": {
      "text/plain": [
       "GridSearchCV(cv=6, error_score='raise',\n",
       "       estimator=XGBRegressor(base_score=0.5, colsample_bylevel=1, colsample_bytree=0.8,\n",
       "       gamma=0, learning_rate=0.1, max_delta_step=0, max_depth=3,\n",
       "       min_child_weight=1, missing=None, n_estimators=1000, nthread=4,\n",
       "       objective='reg:linear', reg_alpha=0, reg_lambda=1,\n",
       "       scale_pos_weight=1, seed=27, silent=True, subsample=0.8),\n",
       "       fit_params={}, iid=False, n_jobs=-1,\n",
       "       param_grid={'max_depth': [9, 11, 13], 'min_child_weight': [3, 4, 5]},\n",
       "       pre_dispatch='2*n_jobs', refit=True, scoring='r2', verbose=0)"
      ]
     },
     "execution_count": 70,
     "metadata": {},
     "output_type": "execute_result"
    }
   ],
   "source": [
    "param_test2 = {'max_depth':range(9,15,2),'min_child_weight':[3,4,5]}\n",
    "xgb2 = xgb.XGBRegressor(learning_rate=0.1,n_estimators=1000,gamma=0,\n",
    "                        subsample=0.8,colsample_bytree=0.8,\n",
    "                        nthread=4,scale_pos_weight=1,seed=27\n",
    "                        )\n",
    "gsearch2 = GridSearchCV(xgb2,param_grid=param_test2,scoring='r2',n_jobs=-1,iid=False,cv=6)\n",
    "gsearch2.fit(x,y)"
   ]
  },
  {
   "cell_type": "code",
   "execution_count": 71,
   "metadata": {},
   "outputs": [
    {
     "data": {
      "text/plain": [
       "([mean: 0.20381, std: 0.04756, params: {'max_depth': 9, 'min_child_weight': 3},\n",
       "  mean: 0.21099, std: 0.04503, params: {'max_depth': 9, 'min_child_weight': 4},\n",
       "  mean: 0.19306, std: 0.05627, params: {'max_depth': 9, 'min_child_weight': 5},\n",
       "  mean: 0.20880, std: 0.05513, params: {'max_depth': 11, 'min_child_weight': 3},\n",
       "  mean: 0.21526, std: 0.05175, params: {'max_depth': 11, 'min_child_weight': 4},\n",
       "  mean: 0.21822, std: 0.05189, params: {'max_depth': 11, 'min_child_weight': 5},\n",
       "  mean: 0.20926, std: 0.05678, params: {'max_depth': 13, 'min_child_weight': 3},\n",
       "  mean: 0.20497, std: 0.05626, params: {'max_depth': 13, 'min_child_weight': 4},\n",
       "  mean: 0.21218, std: 0.05639, params: {'max_depth': 13, 'min_child_weight': 5}],\n",
       " {'max_depth': 11, 'min_child_weight': 5},\n",
       " 0.218219079894197)"
      ]
     },
     "execution_count": 71,
     "metadata": {},
     "output_type": "execute_result"
    }
   ],
   "source": [
    "gsearch2.grid_scores_, gsearch2.best_params_, gsearch2.best_score_"
   ]
  },
  {
   "cell_type": "code",
   "execution_count": null,
   "metadata": {
    "collapsed": true
   },
   "outputs": [],
   "source": [
    "xgb21 = xgb.XGBRegressor(learning_rate=0.1,n_estimators=1000,gamma=0,\n",
    "                        max_depth=7,min_child_weight=5,\n",
    "                        subsample=0.8,colsample_bytree=0.8,\n",
    "                        nthread=4,scale_pos_weight=1,seed=27\n",
    "                        )\n",
    "modelfit(xgb4,rossm_train[8],rossm_test[8],a1)"
   ]
  },
  {
   "cell_type": "markdown",
   "metadata": {},
   "source": [
    "# 对参数gamma进行调优"
   ]
  },
  {
   "cell_type": "code",
   "execution_count": 72,
   "metadata": {},
   "outputs": [
    {
     "data": {
      "text/plain": [
       "GridSearchCV(cv=6, error_score='raise',\n",
       "       estimator=XGBRegressor(base_score=0.5, colsample_bylevel=1, colsample_bytree=0.8,\n",
       "       gamma=0, learning_rate=0.1, max_delta_step=0, max_depth=2,\n",
       "       min_child_weight=6, missing=None, n_estimators=1000, nthread=4,\n",
       "       objective='reg:linear', reg_alpha=0, reg_lambda=1,\n",
       "       scale_pos_weight=1, seed=27, silent=True, subsample=0.8),\n",
       "       fit_params={}, iid=False, n_jobs=-1,\n",
       "       param_grid={'gamma': [0.0, 0.1, 0.2, 0.3, 0.4]},\n",
       "       pre_dispatch='2*n_jobs', refit=True, scoring='r2', verbose=0)"
      ]
     },
     "execution_count": 72,
     "metadata": {},
     "output_type": "execute_result"
    }
   ],
   "source": [
    "param_test3 = {'gamma':[i/10.0 for i in range(0,5)]}\n",
    "xgb3 = xgb.XGBRegressor(learning_rate=0.1,n_estimators=1000,\n",
    "                        max_depth=2,min_child_weight=6,\n",
    "                        subsample=0.8,colsample_bytree=0.8,\n",
    "                        nthread=4,scale_pos_weight=1,seed=27\n",
    "                        )\n",
    "gsearch3 = GridSearchCV(xgb3,param_grid=param_test3,scoring='r2',n_jobs=-1,iid=False,cv=6)\n",
    "gsearch3.fit(x,y)"
   ]
  },
  {
   "cell_type": "code",
   "execution_count": 73,
   "metadata": {},
   "outputs": [
    {
     "data": {
      "text/plain": [
       "([mean: 0.14032, std: 0.24946, params: {'gamma': 0.0},\n",
       "  mean: 0.14032, std: 0.24946, params: {'gamma': 0.1},\n",
       "  mean: 0.14032, std: 0.24946, params: {'gamma': 0.2},\n",
       "  mean: 0.14032, std: 0.24946, params: {'gamma': 0.3},\n",
       "  mean: 0.14032, std: 0.24946, params: {'gamma': 0.4}],\n",
       " {'gamma': 0.0},\n",
       " 0.14031845559046438)"
      ]
     },
     "execution_count": 73,
     "metadata": {},
     "output_type": "execute_result"
    }
   ],
   "source": [
    "gsearch3.grid_scores_, gsearch3.best_params_, gsearch3.best_score_"
   ]
  },
  {
   "cell_type": "code",
   "execution_count": 74,
   "metadata": {},
   "outputs": [
    {
     "name": "stdout",
     "output_type": "stream",
     "text": [
      "503\n",
      "\n",
      " Model Report\n",
      "Accuray: 0.9511\n"
     ]
    },
    {
     "data": {
      "image/png": "[encoded data removed]",
      "text/plain": [
       "<matplotlib.figure.Figure at 0x7f6c3924c390>"
      ]
     },
     "metadata": {},
     "output_type": "display_data"
    }
   ],
   "source": [
    "xgb4 = xgb.XGBRegressor(learning_rate=0.1,n_estimators=1000,gamma=0,\n",
    "                        max_depth=2,min_child_weight=6,\n",
    "                        subsample=0.8,colsample_bytree=0.8,\n",
    "                        nthread=4,scale_pos_weight=1,seed=27\n",
    "                        )\n",
    "modelfit(xgb4,rossm_train[8],rossm_test[8],a1)"
   ]
  },
  {
   "cell_type": "markdown",
   "metadata": {},
   "source": [
    "# 对参数subsample进行调优"
   ]
  },
  {
   "cell_type": "code",
   "execution_count": 75,
   "metadata": {},
   "outputs": [
    {
     "data": {
      "text/plain": [
       "GridSearchCV(cv=6, error_score='raise',\n",
       "       estimator=XGBRegressor(base_score=0.5, colsample_bylevel=1, colsample_bytree=1, gamma=0,\n",
       "       learning_rate=0.1, max_delta_step=0, max_depth=2,\n",
       "       min_child_weight=6, missing=None, n_estimators=1000, nthread=4,\n",
       "       objective='reg:linear', reg_alpha=0, reg_lambda=1,\n",
       "       scale_pos_weight=1, seed=27, silent=True, subsample=1),\n",
       "       fit_params={}, iid=False, n_jobs=-1,\n",
       "       param_grid={'subsample': [0.6, 0.7, 0.8, 0.9], 'colsample_bytree': [0.6, 0.7, 0.8, 0.9]},\n",
       "       pre_dispatch='2*n_jobs', refit=True, scoring='r2', verbose=0)"
      ]
     },
     "execution_count": 75,
     "metadata": {},
     "output_type": "execute_result"
    }
   ],
   "source": [
    "param_test5 = {\n",
    "    'subsample':[i/10.0 for i in range(6,10)],\n",
    "    'colsample_bytree':[i/10.0 for i in range(6,10)]\n",
    "}\n",
    "xgb5 = xgb.XGBRegressor(learning_rate=0.1,n_estimators=1000,gamma=0,\n",
    "                        max_depth=2,min_child_weight=6,\n",
    "        \n",
    "                        nthread=4,scale_pos_weight=1,seed=27\n",
    "                        )\n",
    "gsearch5 = GridSearchCV(xgb5,param_grid=param_test5,scoring='r2',n_jobs=-1,iid=False,cv=6)\n",
    "gsearch5.fit(x,y)"
   ]
  },
  {
   "cell_type": "code",
   "execution_count": 76,
   "metadata": {},
   "outputs": [
    {
     "data": {
      "text/plain": [
       "([mean: 0.17734, std: 0.18462, params: {'subsample': 0.6, 'colsample_bytree': 0.6},\n",
       "  mean: 0.20994, std: 0.10677, params: {'subsample': 0.7, 'colsample_bytree': 0.6},\n",
       "  mean: 0.13807, std: 0.27240, params: {'subsample': 0.8, 'colsample_bytree': 0.6},\n",
       "  mean: 0.16857, std: 0.12931, params: {'subsample': 0.9, 'colsample_bytree': 0.6},\n",
       "  mean: 0.13383, std: 0.28200, params: {'subsample': 0.6, 'colsample_bytree': 0.7},\n",
       "  mean: 0.16163, std: 0.19943, params: {'subsample': 0.7, 'colsample_bytree': 0.7},\n",
       "  mean: 0.11407, std: 0.28366, params: {'subsample': 0.8, 'colsample_bytree': 0.7},\n",
       "  mean: 0.11143, std: 0.28714, params: {'subsample': 0.9, 'colsample_bytree': 0.7},\n",
       "  mean: 0.18528, std: 0.13521, params: {'subsample': 0.6, 'colsample_bytree': 0.8},\n",
       "  mean: 0.16990, std: 0.18204, params: {'subsample': 0.7, 'colsample_bytree': 0.8},\n",
       "  mean: 0.14032, std: 0.24946, params: {'subsample': 0.8, 'colsample_bytree': 0.8},\n",
       "  mean: 0.12903, std: 0.28992, params: {'subsample': 0.9, 'colsample_bytree': 0.8},\n",
       "  mean: 0.11112, std: 0.32692, params: {'subsample': 0.6, 'colsample_bytree': 0.9},\n",
       "  mean: 0.11517, std: 0.32622, params: {'subsample': 0.7, 'colsample_bytree': 0.9},\n",
       "  mean: 0.09736, std: 0.36668, params: {'subsample': 0.8, 'colsample_bytree': 0.9},\n",
       "  mean: 0.09034, std: 0.34340, params: {'subsample': 0.9, 'colsample_bytree': 0.9}],\n",
       " {'colsample_bytree': 0.6, 'subsample': 0.7},\n",
       " 0.2099419314584328)"
      ]
     },
     "execution_count": 76,
     "metadata": {},
     "output_type": "execute_result"
    }
   ],
   "source": [
    "gsearch5.grid_scores_, gsearch5.best_params_, gsearch5.best_score_"
   ]
  },
  {
   "cell_type": "code",
   "execution_count": 77,
   "metadata": {},
   "outputs": [
    {
     "data": {
      "text/plain": [
       "GridSearchCV(cv=6, error_score='raise',\n",
       "       estimator=XGBRegressor(base_score=0.5, colsample_bylevel=1, colsample_bytree=0.7,\n",
       "       gamma=0, learning_rate=0.1, max_delta_step=0, max_depth=2,\n",
       "       min_child_weight=6, missing=None, n_estimators=1000, nthread=4,\n",
       "       objective='reg:linear', reg_alpha=0, reg_lambda=1,\n",
       "       scale_pos_weight=1, seed=27, silent=True, subsample=0.9),\n",
       "       fit_params={}, iid=False, n_jobs=-1,\n",
       "       param_grid={'reg_alpha': [1e-05, 0.01, 0.1, 1, 100]},\n",
       "       pre_dispatch='2*n_jobs', refit=True, scoring='r2', verbose=0)"
      ]
     },
     "execution_count": 77,
     "metadata": {},
     "output_type": "execute_result"
    }
   ],
   "source": [
    "param_test6 = {'reg_alpha':[1e-5, 1e-2, 0.1, 1, 100]}\n",
    "xgb6 = xgb.XGBRegressor(learning_rate=0.1,n_estimators=1000,gamma=0,\n",
    "                        max_depth=2,min_child_weight=6,\n",
    "                        colsample_bytree=0.7,subsample=0.9,\n",
    "                        nthread=4,scale_pos_weight=1,seed=27\n",
    "                        )\n",
    "gsearch6 = GridSearchCV(xgb6,param_grid=param_test6,scoring='r2',n_jobs=-1,iid=False,cv=6)\n",
    "gsearch6.fit(x,y)"
   ]
  },
  {
   "cell_type": "code",
   "execution_count": 78,
   "metadata": {},
   "outputs": [
    {
     "data": {
      "text/plain": [
       "([mean: 0.11143, std: 0.28714, params: {'reg_alpha': 1e-05},\n",
       "  mean: 0.11143, std: 0.28714, params: {'reg_alpha': 0.01},\n",
       "  mean: 0.11143, std: 0.28714, params: {'reg_alpha': 0.1},\n",
       "  mean: 0.11143, std: 0.28713, params: {'reg_alpha': 1},\n",
       "  mean: 0.12025, std: 0.26591, params: {'reg_alpha': 100}],\n",
       " {'reg_alpha': 100},\n",
       " 0.12025035410467814)"
      ]
     },
     "execution_count": 78,
     "metadata": {},
     "output_type": "execute_result"
    }
   ],
   "source": [
    "gsearch6.grid_scores_, gsearch6.best_params_, gsearch6.best_score_"
   ]
  },
  {
   "cell_type": "code",
   "execution_count": 79,
   "metadata": {},
   "outputs": [
    {
     "name": "stdout",
     "output_type": "stream",
     "text": [
      "781\n",
      "\n",
      " Model Report\n",
      "Accuray: 0.9541\n"
     ]
    },
    {
     "data": {
      "image/png": "[encoded data removed]",
      "text/plain": [
       "<matplotlib.figure.Figure at 0x7f6c4ed8ddd0>"
      ]
     },
     "metadata": {},
     "output_type": "display_data"
    }
   ],
   "source": [
    "xgb7 = xgb.XGBRegressor(learning_rate=0.1,n_estimators=1000,gamma=0,reg_alpha=1e-05,\n",
    "                        max_depth=2,min_child_weight=6,\n",
    "                        colsample_bytree=0.7,subsample=0.9,\n",
    "                        nthread=4,scale_pos_weight=1,seed=27\n",
    "                        )\n",
    "modelfit(xgb7,rossm_train[8],rossm_test[8],a1)"
   ]
  },
  {
   "cell_type": "markdown",
   "metadata": {},
   "source": [
    "# 对全量数据通过xgboost测试调优"
   ]
  },
  {
   "cell_type": "code",
   "execution_count": 80,
   "metadata": {},
   "outputs": [
    {
     "name": "stdout",
     "output_type": "stream",
     "text": [
      "8000\n",
      "\n",
      " Model Report\n",
      "Accuray: 0.8421\n"
     ]
    },
    {
     "data": {
      "image/png": "[encoded data removed]",
      "text/plain": [
       "<matplotlib.figure.Figure at 0x7f6c342fc710>"
      ]
     },
     "metadata": {},
     "output_type": "display_data"
    }
   ],
   "source": [
    "xgb8 = xgb.XGBRegressor(learning_rate=0.1,n_estimators=8000,gamma=0,reg_alpha=1e-05,\n",
    "                        max_depth=2,min_child_weight=6,\n",
    "                        colsample_bytree=0.7,subsample=0.9,\n",
    "                        nthread=4,scale_pos_weight=1,seed=27\n",
    "                        )\n",
    "modelfit(xgb8,train,test,a1)"
   ]
  },
  {
   "cell_type": "code",
   "execution_count": null,
   "metadata": {
    "collapsed": true
   },
   "outputs": [],
   "source": []
  }
 ],
 "metadata": {
  "kernelspec": {
   "display_name": "Python 3",
   "language": "python",
   "name": "python3"
  },
  "language_info": {
   "codemirror_mode": {
    "name": "ipython",
    "version": 3
   },
   "file_extension": ".py",
   "mimetype": "text/x-python",
   "name": "python",
   "nbconvert_exporter": "python",
   "pygments_lexer": "ipython3",
   "version": "3.6.1"
  }
 },
 "nbformat": 4,
 "nbformat_minor": 2
}
