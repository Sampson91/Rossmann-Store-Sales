{
 "cells": [
  {
   "cell_type": "code",
   "execution_count": 3,
   "metadata": {
    "scrolled": false
   },
   "outputs": [],
   "source": [
    "import pandas as pd\n",
    "import numpy as np\n",
    "import matplotlib.pyplot as plt\n",
    "import seaborn as sns\n",
    "\n",
    "# import visuals as vs\n",
    "import datetime\n",
    "import csv\n",
    "import xgboost as xgb\n",
    "import itertools\n",
    "import os\n",
    "import warnings\n",
    "warnings.filterwarnings('ignore')\n",
    "from sklearn.metrics import r2_score,mean_squared_error\n",
    " \n",
    "\n",
    "from sklearn.metrics import r2_score,mean_squared_error\n",
    "from sklearn import grid_search\n",
    "%matplotlib inline\n",
    "from sklearn.preprocessing import StandardScaler,LabelEncoder\n",
    "from sklearn.base import TransformerMixin\n",
    "from sklearn import cross_validation\n",
    "from matplotlib import pylab as plt\n",
    "plot = True\n",
    "goal = 'Sales'\n",
    "myid = 'Id'\n",
    "from sklearn.cross_validation import train_test_split\n",
    "from sklearn import tree\n",
    "from sklearn.linear_model import LinearRegression\n",
    "from sklearn.linear_model import LogisticRegression\n",
    "from sklearn.svm import SVC, LinearSVC\n",
    "from sklearn.ensemble import RandomForestRegressor\n",
    "from sklearn.neighbors import KNeighborsClassifier\n",
    "from sklearn.naive_bayes import GaussianNB"
   ]
  },
  {
   "cell_type": "code",
   "execution_count": 4,
   "metadata": {},
   "outputs": [],
   "source": [
    "def get_data():\n",
    "    store = pd.read_csv('./store.csv')\n",
    "    train_org = pd.read_csv('./train.csv',dtype={'StateHoliday':pd.np.string_})\n",
    "    test_org = pd.read_csv('./test.csv',dtype={'StateHoliday':pd.np.string_})\n",
    "    train = pd.merge(train_org,store,on='Store',how='left')\n",
    "    test = pd.merge(test_org,store,on='Store',how='left')\n",
    "    \n",
    "    features1 = ['Id', 'Store', 'DayOfWeek', 'Date', 'Open', 'Promo', 'StateHoliday', \n",
    "                 'SchoolHoliday', 'StoreType', 'Assortment', 'CompetitionDistance', \n",
    "                 'CompetitionOpenSinceMonth', 'CompetitionOpenSinceYear', 'Promo2', \n",
    "                 'Promo2SinceWeek', 'Promo2SinceYear', 'PromoInterval']\n",
    "\n",
    "    feature_non = ['Promo','Store','Date', 'StateHoliday','SchoolHoliday', 'StoreType', 'Assortment', 'Promo2', 'PromoInterval']\n",
    "    return (train,test,features1,feature_non)"
   ]
  },
  {
   "cell_type": "code",
   "execution_count": 5,
   "metadata": {},
   "outputs": [],
   "source": [
    "def process_data(train,test,features,features_no): ##数据处理\n",
    "    train = train[train['Open']==1]\n",
    "    \n",
    "    test = test[test['Open']==1]\n",
    "    for rossm in [train,test]:\n",
    "        rossm['year'] = rossm.Date.apply(lambda x: int(x.split('-')[0]))\n",
    "        rossm['month']= rossm.Date.apply(lambda x: int(x.split('-')[1]))\n",
    "        rossm['day']  = rossm.Date.apply(lambda x: int(x.split('-')[2]))\n",
    "\n",
    "        rossm['promojan'] = rossm.PromoInterval.apply(lambda x:0 if isinstance(x,float) else 1 if 'Jan' in x else 0)\n",
    "        rossm['promofeb'] = rossm.PromoInterval.apply(lambda x:0 if isinstance(x,float) else 1 if 'Feb' in x else 0)\n",
    "        rossm['promomar'] = rossm.PromoInterval.apply(lambda x:0 if isinstance(x,float) else 1 if 'Mar' in x else 0)\n",
    "        rossm['promoapr'] = rossm.PromoInterval.apply(lambda x:0 if isinstance(x,float) else 1 if 'Apr' in x else 0)\n",
    "        rossm['promomay'] = rossm.PromoInterval.apply(lambda x:0 if isinstance(x,float) else 1 if 'May' in x else 0)\n",
    "        rossm['promojun'] = rossm.PromoInterval.apply(lambda x:0 if isinstance(x,float) else 1 if 'Jun' in x else 0)\n",
    "        rossm['promojul'] = rossm.PromoInterval.apply(lambda x:0 if isinstance(x,float) else 1 if 'Jul' in x else 0)\n",
    "        rossm['promoaug'] = rossm.PromoInterval.apply(lambda x:0 if isinstance(x,float) else 1 if 'Aug' in x else 0)\n",
    "        rossm['promosep'] = rossm.PromoInterval.apply(lambda x:0 if isinstance(x,float) else 1 if 'Sep' in x else 0)\n",
    "        rossm['promooct'] = rossm.PromoInterval.apply(lambda x:0 if isinstance(x,float) else 1 if 'Oct' in x else 0)\n",
    "        rossm['promonov'] = rossm.PromoInterval.apply(lambda x:0 if isinstance(x,float) else 1 if 'Nov' in x else 0)\n",
    "        rossm['promodec'] = rossm.PromoInterval.apply(lambda x:0 if isinstance(x,float) else 1 if 'Dec' in x else 0)\n",
    "    \n",
    "    day_dummies = pd.get_dummies(train['DayOfWeek'],prefix='Day')\n",
    "    day_dummies.drop(['Day_7'],axis=1,inplace=True)  #删除周日的数据\n",
    "    train = train.join(day_dummies)\n",
    "\n",
    "    \n",
    "    day_dummies_test = pd.get_dummies(test['DayOfWeek'],prefix='Day')\n",
    "    day_dummies_test.drop(['Day_7'],axis=1,inplace=True)  #删除周日数据\n",
    "    test = test.join(day_dummies_test)\n",
    "    \n",
    "    noisy_features = [myid,'Date']\n",
    "    features = [c for c in features if c not in noisy_features]\n",
    "    features_non_numeric = [c for c in features_no if c not in noisy_features]\n",
    "    features.extend(['year','month','day'])\n",
    "    class DataFrameInputer(TransformerMixin):\n",
    "        def __init__(self):\n",
    "                \"\"\"\n",
    "                \"\"\"\n",
    "        def fit(self,X,y=None):\n",
    "            self.fill = pd.Series([X[c].value_counts().index[0] \n",
    "                                  if X[c].dtype==np.dtype('O') \n",
    "                                   else X[c].mean() for c in X],index = X.columns)\n",
    "            return self\n",
    "        def transform(self,X,y=None):\n",
    "            return X.fillna(self.fill)\n",
    "        \n",
    "    train = DataFrameInputer().fit_transform(train)\n",
    "    test  = DataFrameInputer().fit_transform(test)\n",
    "        \n",
    "    le = LabelEncoder()\n",
    "    for col in features:\n",
    "        le.fit(list(train[col])+list(test[col]))\n",
    "        train[col] = le.transform(train[col])\n",
    "        test[col] = le.transform(test[col])\n",
    "        \n",
    "    scaler = StandardScaler()\n",
    "    for col in set(features) - set(features_no) - set([]):\n",
    "        try:\n",
    "            scaler.fit(list(train[col])+list(test[col]))\n",
    "        except:\n",
    "            print(col)\n",
    "        train[col] = scaler.transform(train[col])\n",
    "        test[col] = scaler.transform(test[col])\n",
    "    return (train,test,features,features_no)"
   ]
  },
  {
   "cell_type": "code",
   "execution_count": 6,
   "metadata": {
    "scrolled": true
   },
   "outputs": [
    {
     "name": "stdout",
     "output_type": "stream",
     "text": [
      "Open\n"
     ]
    },
    {
     "ename": "NotFittedError",
     "evalue": "This StandardScaler instance is not fitted yet. Call 'fit' with appropriate arguments before using this method.",
     "output_type": "error",
     "traceback": [
      "\u001b[0;31m---------------------------------------------------------------------------\u001b[0m",
      "\u001b[0;31mNotFittedError\u001b[0m                            Traceback (most recent call last)",
      "\u001b[0;32m<ipython-input-6-847dae3f02e8>\u001b[0m in \u001b[0;36m<module>\u001b[0;34m()\u001b[0m\n\u001b[1;32m      1\u001b[0m \u001b[0mtrain\u001b[0m\u001b[0;34m,\u001b[0m\u001b[0mtest\u001b[0m\u001b[0;34m,\u001b[0m\u001b[0mfeatures\u001b[0m\u001b[0;34m,\u001b[0m\u001b[0mfeatures_non_numeric\u001b[0m \u001b[0;34m=\u001b[0m \u001b[0mget_data\u001b[0m\u001b[0;34m(\u001b[0m\u001b[0;34m)\u001b[0m\u001b[0;34m\u001b[0m\u001b[0m\n\u001b[0;32m----> 2\u001b[0;31m \u001b[0mtrain\u001b[0m\u001b[0;34m,\u001b[0m\u001b[0mtest\u001b[0m\u001b[0;34m,\u001b[0m\u001b[0mfeatures\u001b[0m\u001b[0;34m,\u001b[0m\u001b[0mfeatures_non_numeric\u001b[0m \u001b[0;34m=\u001b[0m \u001b[0mprocess_data\u001b[0m\u001b[0;34m(\u001b[0m\u001b[0mtrain\u001b[0m\u001b[0;34m,\u001b[0m\u001b[0mtest\u001b[0m\u001b[0;34m,\u001b[0m\u001b[0mfeatures\u001b[0m\u001b[0;34m,\u001b[0m\u001b[0mfeatures_non_numeric\u001b[0m\u001b[0;34m)\u001b[0m\u001b[0;34m\u001b[0m\u001b[0m\n\u001b[0m",
      "\u001b[0;32m<ipython-input-5-5937463b53e1>\u001b[0m in \u001b[0;36mprocess_data\u001b[0;34m(train, test, features, features_no)\u001b[0m\n\u001b[1;32m     61\u001b[0m         \u001b[0;32mexcept\u001b[0m\u001b[0;34m:\u001b[0m\u001b[0;34m\u001b[0m\u001b[0m\n\u001b[1;32m     62\u001b[0m             \u001b[0mprint\u001b[0m\u001b[0;34m(\u001b[0m\u001b[0mcol\u001b[0m\u001b[0;34m)\u001b[0m\u001b[0;34m\u001b[0m\u001b[0m\n\u001b[0;32m---> 63\u001b[0;31m         \u001b[0mtrain\u001b[0m\u001b[0;34m[\u001b[0m\u001b[0mcol\u001b[0m\u001b[0;34m]\u001b[0m \u001b[0;34m=\u001b[0m \u001b[0mscaler\u001b[0m\u001b[0;34m.\u001b[0m\u001b[0mtransform\u001b[0m\u001b[0;34m(\u001b[0m\u001b[0mtrain\u001b[0m\u001b[0;34m[\u001b[0m\u001b[0mcol\u001b[0m\u001b[0;34m]\u001b[0m\u001b[0;34m)\u001b[0m\u001b[0;34m\u001b[0m\u001b[0m\n\u001b[0m\u001b[1;32m     64\u001b[0m         \u001b[0mtest\u001b[0m\u001b[0;34m[\u001b[0m\u001b[0mcol\u001b[0m\u001b[0;34m]\u001b[0m \u001b[0;34m=\u001b[0m \u001b[0mscaler\u001b[0m\u001b[0;34m.\u001b[0m\u001b[0mtransform\u001b[0m\u001b[0;34m(\u001b[0m\u001b[0mtest\u001b[0m\u001b[0;34m[\u001b[0m\u001b[0mcol\u001b[0m\u001b[0;34m]\u001b[0m\u001b[0;34m)\u001b[0m\u001b[0;34m\u001b[0m\u001b[0m\n\u001b[1;32m     65\u001b[0m     \u001b[0;32mreturn\u001b[0m \u001b[0;34m(\u001b[0m\u001b[0mtrain\u001b[0m\u001b[0;34m,\u001b[0m\u001b[0mtest\u001b[0m\u001b[0;34m,\u001b[0m\u001b[0mfeatures\u001b[0m\u001b[0;34m,\u001b[0m\u001b[0mfeatures_no\u001b[0m\u001b[0;34m)\u001b[0m\u001b[0;34m\u001b[0m\u001b[0m\n",
      "\u001b[0;32m~/anaconda3/lib/python3.6/site-packages/sklearn/preprocessing/data.py\u001b[0m in \u001b[0;36mtransform\u001b[0;34m(self, X, y, copy)\u001b[0m\n\u001b[1;32m    675\u001b[0m                           DeprecationWarning)\n\u001b[1;32m    676\u001b[0m \u001b[0;34m\u001b[0m\u001b[0m\n\u001b[0;32m--> 677\u001b[0;31m         \u001b[0mcheck_is_fitted\u001b[0m\u001b[0;34m(\u001b[0m\u001b[0mself\u001b[0m\u001b[0;34m,\u001b[0m \u001b[0;34m'scale_'\u001b[0m\u001b[0;34m)\u001b[0m\u001b[0;34m\u001b[0m\u001b[0m\n\u001b[0m\u001b[1;32m    678\u001b[0m \u001b[0;34m\u001b[0m\u001b[0m\n\u001b[1;32m    679\u001b[0m         \u001b[0mcopy\u001b[0m \u001b[0;34m=\u001b[0m \u001b[0mcopy\u001b[0m \u001b[0;32mif\u001b[0m \u001b[0mcopy\u001b[0m \u001b[0;32mis\u001b[0m \u001b[0;32mnot\u001b[0m \u001b[0;32mNone\u001b[0m \u001b[0;32melse\u001b[0m \u001b[0mself\u001b[0m\u001b[0;34m.\u001b[0m\u001b[0mcopy\u001b[0m\u001b[0;34m\u001b[0m\u001b[0m\n",
      "\u001b[0;32m~/anaconda3/lib/python3.6/site-packages/sklearn/utils/validation.py\u001b[0m in \u001b[0;36mcheck_is_fitted\u001b[0;34m(estimator, attributes, msg, all_or_any)\u001b[0m\n\u001b[1;32m    766\u001b[0m \u001b[0;34m\u001b[0m\u001b[0m\n\u001b[1;32m    767\u001b[0m     \u001b[0;32mif\u001b[0m \u001b[0;32mnot\u001b[0m \u001b[0mall_or_any\u001b[0m\u001b[0;34m(\u001b[0m\u001b[0;34m[\u001b[0m\u001b[0mhasattr\u001b[0m\u001b[0;34m(\u001b[0m\u001b[0mestimator\u001b[0m\u001b[0;34m,\u001b[0m \u001b[0mattr\u001b[0m\u001b[0;34m)\u001b[0m \u001b[0;32mfor\u001b[0m \u001b[0mattr\u001b[0m \u001b[0;32min\u001b[0m \u001b[0mattributes\u001b[0m\u001b[0;34m]\u001b[0m\u001b[0;34m)\u001b[0m\u001b[0;34m:\u001b[0m\u001b[0;34m\u001b[0m\u001b[0m\n\u001b[0;32m--> 768\u001b[0;31m         \u001b[0;32mraise\u001b[0m \u001b[0mNotFittedError\u001b[0m\u001b[0;34m(\u001b[0m\u001b[0mmsg\u001b[0m \u001b[0;34m%\u001b[0m \u001b[0;34m{\u001b[0m\u001b[0;34m'name'\u001b[0m\u001b[0;34m:\u001b[0m \u001b[0mtype\u001b[0m\u001b[0;34m(\u001b[0m\u001b[0mestimator\u001b[0m\u001b[0;34m)\u001b[0m\u001b[0;34m.\u001b[0m\u001b[0m__name__\u001b[0m\u001b[0;34m}\u001b[0m\u001b[0;34m)\u001b[0m\u001b[0;34m\u001b[0m\u001b[0m\n\u001b[0m\u001b[1;32m    769\u001b[0m \u001b[0;34m\u001b[0m\u001b[0m\n\u001b[1;32m    770\u001b[0m \u001b[0;34m\u001b[0m\u001b[0m\n",
      "\u001b[0;31mNotFittedError\u001b[0m: This StandardScaler instance is not fitted yet. Call 'fit' with appropriate arguments before using this method."
     ]
    }
   ],
   "source": [
    "train,test,features,features_non_numeric = get_data()\n",
    "train,test,features,features_non_numeric = process_data(train,test,features,features_non_numeric)"
   ]
  },
  {
   "cell_type": "code",
   "execution_count": 7,
   "metadata": {},
   "outputs": [
    {
     "name": "stdout",
     "output_type": "stream",
     "text": [
      "Convert Time\n",
      "add additional past_quater_mean_sale and past_year_mean_sale\n",
      "Merging\n",
      "Final output\n"
     ]
    }
   ],
   "source": [
    "#1、去除销量中的极值,由于无法估计极值对结果的影响，所以拟合模型的时候可以进行两次，去除极值和未去除极值\n",
    "#再试一下标准差标准误差\n",
    "train = pd.read_csv('./train.csv')\n",
    "test = pd.read_csv('./test.csv')\n",
    "store = pd.read_csv('./store.csv')\n",
    "\n",
    "#2、对时间的拆分\n",
    "def data_processing(df):\n",
    "    df['Date'] = pd.to_datetime(df['Date'])\n",
    "    df['DayOfYear'] = df['Date'].apply(lambda x: x.dayofyear)\n",
    "    df['WeekOfYear'] = df['Date'].apply(lambda x: x.week)\n",
    "    df['Month'] = df['Date'].apply(lambda x: x.month)\n",
    "    df['DayOfMonth'] = df['Date'].apply(lambda x: x.day)\n",
    "    df['Year'] = df['Date'].apply(lambda x: x.year)\n",
    "    return df\n",
    "\n",
    "#4、为每个日期添加过去一个季度，过去半年，过去一年，过去两年的这家店的平均日销售量\n",
    "def store_sales_each_day(sale):\n",
    "    \n",
    "    def add_mean(store,sale,current_date,past_time):\n",
    "        past_date = current_date - timedelta(days=past_time)\n",
    "        mean_sale = sale[(sale['Date'] < current_date) & (sale['Date'] > past_date) & (sale['Store'] == store)]['Sales'].mean()\n",
    "        return mean_sale\n",
    "    \n",
    "    sale['past_quater_mean_sale'] = sale.apply(lambda row: add_mean(row['Store'], sale, row['Date'], 90), axis=1)\n",
    "    sale['past_year_mean_sale'] = sale.apply(lambda row: add_mean(row['Store'], sale, row['Date'], 183), axis=1)\n",
    "    \n",
    "    return sale\n",
    "\n",
    "#测试集调整\n",
    "def store_sales_each_day_for_test(sale,test):\n",
    "    \n",
    "    def add_mean(store,sale,current_date,past_time):\n",
    "        past_date = current_date - timedelta(days=past_time)\n",
    "        mean_sale = sale[(sale['Date'] < current_date) & (sale['Date'] > past_date) & (sale['Store'] == store)]['Sales'].mean()\n",
    "        return mean_sale\n",
    "    \n",
    "    test['past_quater_mean_sale'] = test.apply(lambda row: add_mean(row['Store'], sale, row['Date'], 90), axis=1)\n",
    "    test['past_year_mean_sale'] = test.apply(lambda row: add_mean(row['Store'], sale, row['Date'], 183), axis=1)\n",
    "\n",
    "    return test\n",
    "\n",
    "#3、为每家店添加销售量客流量相关的均值,执行顺序在对时间进行拆分后\n",
    "def add_mean_for_store(sales,store_df=store) :\n",
    "    mean_sales_promo = []\n",
    "    mean_sales_no_promo = []\n",
    "    mean_sales = []\n",
    "    mean_sales_2013 = []\n",
    "    mean_sales_2014 = []\n",
    "    mean_sales_2015 = []\n",
    "    mean_store_sales_1month = []\n",
    "    mean_store_sales_2months = []\n",
    "    mean_store_sales_3months = []\n",
    "    mean_store_sales_6months = []\n",
    "    \n",
    "    \n",
    "    mean_customers_promo = []\n",
    "    mean_customers_no_promo = []\n",
    "    mean_customers = []\n",
    "    mean_customers_2013 = []\n",
    "    mean_customers_2014 = []\n",
    "    mean_customers_2015 = []\n",
    "    mean_customers_1month = [] \n",
    "    mean_customers_2months = [] \n",
    "    mean_customers_3months = []\n",
    "    mean_customers_6months = []\n",
    "    \n",
    "    \n",
    "    for store in store_df['Store']:\n",
    "        sale = sales[sales['Store']==store]\n",
    "        \n",
    "        # mean of sales\n",
    "        mean_sales.append(sale['Sales'].mean())\n",
    "        mean_sales_promo.append(sale[sale['Promo'] == 1]['Sales'].mean())\n",
    "        mean_sales_no_promo.append(sale[sale['Promo'] == 0]['Sales'].mean())\n",
    "        mean_sales_2013.append(sale[sale['Year'] == 2013]['Sales'].mean())\n",
    "        mean_sales_2014.append(sale[sale['Year'] == 2014]['Sales'].mean())\n",
    "        mean_sales_2015.append(sale[sale['Year'] == 2015]['Sales'].mean())\n",
    "        mean_store_sales_1month.append(sale[(sale['Month'] == 7) & (sale['Year'] == 2015)]['Sales'].mean())                   \n",
    "        mean_store_sales_2months.append(sale[(sale['Month'] <= 7) ^(sale['Month'] >= 6) & (sale['Year'] == 2015)]['Sales'].mean())\n",
    "        mean_store_sales_3months.append(sale[(sale['Month'] <= 7) ^(sale['Month'] >= 5) & (sale['Year'] == 2015)]['Sales'].mean())        \n",
    "        mean_store_sales_6months.append(sale[(sale['Month'] <= 7) ^(sale['Month'] >= 2) & (sale['Year'] == 2015)]['Sales'].mean())\n",
    "        \n",
    "        # mean of customers\n",
    "        mean_customers.append(sale['Customers'].mean())\n",
    "        mean_customers_promo.append(sale[sale['Promo'] == 1]['Customers'].mean())\n",
    "        mean_customers_no_promo.append(sale[sale['Promo'] == 0]['Customers'].mean())\n",
    "        mean_customers_2013.append(sale[sale['Year'] == 2013]['Customers'].mean())\n",
    "        mean_customers_2014.append(sale[sale['Year'] == 2014]['Customers'].mean())\n",
    "        mean_customers_2015.append(sale[sale['Year'] == 2015]['Customers'].mean())\n",
    "        mean_customers_1month.append(sale[(sale['Month'] == 7) & (sale['Year'] == 2015)]['Customers'].mean())                   \n",
    "        mean_customers_2months.append(sale[(sale['Month'] <= 7) ^(sale['Month'] >= 6) & (sale['Year'] == 2015)]['Customers'].mean())\n",
    "        mean_customers_3months.append(sale[(sale['Month'] <= 7) ^(sale['Month'] >= 5) & (sale['Year'] == 2015)]['Customers'].mean())        \n",
    "        mean_customers_6months.append(sale[(sale['Month'] <= 7) ^(sale['Month'] >= 2) & (sale['Year'] == 2015)]['Customers'].mean())\n",
    "        \n",
    "    store_df['mean_sales'] = mean_sales\n",
    "    store_df['mean_sales_promo'] = mean_sales_promo\n",
    "    store_df['mean_sales_no_promo'] = mean_sales_no_promo\n",
    "    store_df['mean_sales_2013'] = mean_sales_2013\n",
    "    store_df['mean_sales_2014'] = mean_sales_2014\n",
    "    store_df['mean_sales_2015'] = mean_sales_2015\n",
    "    store_df['mean_store_sales_1month'] = mean_store_sales_1month\n",
    "    store_df['mean_store_sales_2months'] = mean_store_sales_2months\n",
    "    store_df['mean_store_sales_3months'] = mean_store_sales_3months\n",
    "    store_df['mean_store_sales_6months'] = mean_store_sales_6months\n",
    "    \n",
    "    store_df['mean_customers'] = mean_customers\n",
    "    store_df['mean_customers_promo'] = mean_customers_promo\n",
    "    store_df['mean_customers_no_promo'] = mean_customers_no_promo\n",
    "    store_df['mean_customers_2013'] = mean_customers_2013\n",
    "    store_df['mean_customers_2014'] = mean_customers_2014\n",
    "    store_df['mean_customers_2015'] = mean_customers_2015\n",
    "    store_df['mean_customers_1month'] = mean_customers_1month\n",
    "    store_df['mean_customers_2months'] = mean_customers_2months\n",
    "    store_df['mean_customers_3months'] = mean_customers_3months\n",
    "    store_df['mean_customers_6months'] = mean_customers_6months\n",
    "    \n",
    "    return store_df\n",
    "\n",
    "def drop_stores(data_test, data):\n",
    "\tstores = data_test['Store'].unique()         \n",
    "\treturn data[data_test['Store'].isin(stores)]\n",
    "\n",
    "#合并销售和商店 \n",
    "def merge_sale(sale_data, store_data):\n",
    "    train = sale_data.join(store_data, on='Store', rsuffix='_')\n",
    "    train = train.drop('Store_',axis=1)\n",
    "    return train\n",
    "\n",
    "#添加其他特征\n",
    "def extra_features(data):\n",
    "    data['CompetitionOpen'] = 12 * (data['Year'] - data['CompetitionOpenSinceYear']) + (data['Month'] - data['CompetitionOpenSinceMonth'])\n",
    "    data['PromoOpen'] = 12 * (data['Year'] - data['Promo2SinceYear'])+ (data['WeekOfYear'] - data['Promo2SinceWeek']) / 4.0\n",
    "    data['PromoOpen'] = data['PromoOpen'].apply(lambda x: x if x > 0 else 0)\n",
    "    data.loc[data.Promo2SinceYear == 0, 'PromoOpen'] = 0\n",
    "    data = data.drop(['CompetitionOpenSinceMonth', 'CompetitionOpenSinceYear', 'Promo2SinceWeek', 'Promo2SinceYear'], axis=1) #删除特征\n",
    "    \n",
    "    mappings = {'0': 0, 'a': 1, 'b': 2, 'c': 3, 'd': 4,'Jan,Apr,Jul,Oct':1,'Feb,May,Aug,Nov':2,'Mar,Jun,Sept,Dec':3}  \n",
    "    data['StoreType'].replace(mappings, inplace=True)  \n",
    "    data['Assortment'].replace(mappings, inplace=True)  \n",
    "    data['StateHoliday'].replace(mappings, inplace=True)\n",
    "    data['PromoInterval'].replace(mappings, inplace=True)\n",
    "#     data = data.drop(['Date'],axis= 1)\n",
    "    return data\n",
    "\n",
    "#去除极大极小值\n",
    "# print('Moving outliers')\n",
    "# train = rm_outliers(train)\n",
    "\n",
    "#转换年月日\n",
    "print('Convert Time')\n",
    "train = data_processing(train)\n",
    "test = data_processing(test)\n",
    "\n",
    "#给商店计算平均销售量\n",
    "store = add_mean_for_store(train)\n",
    "store = drop_stores(test, store)\n",
    "\n",
    "print('add additional past_quater_mean_sale and past_year_mean_sale')\n",
    "#添加额外特征'past_quater_mean_sale'和'past_year_mean_sale'，这段代码运行时间可能会过长\n",
    "# train = store_sales_each_day(train)\n",
    "# test = store_sales_each_day_for_test(train,test)\n",
    "\n",
    "print('Merging')\n",
    "#合并\n",
    "train = merge_sale(train, store)\n",
    "test = merge_sale(test, store)\n",
    "# train.to_csv('train_withextra.csv',index=False)\n",
    "# test.to_csv('test_withextra.csv',index=False)\n",
    "\n",
    "#额外的特征\n",
    "train = extra_features(train)\n",
    "test = extra_features(test)\n",
    "\n",
    "# holidayofyear = sorted(train[train['StateHoliday'].isin([1,2,3,4])]['DayOfYear'].unique())\n",
    "# def day2holiday(df,holidayofyear):\n",
    "#     for holiday in holidayofyear:\n",
    "#         df['DaysToHoliday' + str(holiday)] = holiday - df['DayOfYear']\n",
    "#     return df\n",
    "\n",
    "#计算距离节日的日子数\n",
    "# train = day2holiday(train,holidayofyear)\n",
    "# test =  day2holiday(test,holidayofyear)\n",
    "\n",
    "print('Final output')\n",
    "#生成最终输入\n"
   ]
  },
  {
   "cell_type": "code",
   "execution_count": null,
   "metadata": {},
   "outputs": [],
   "source": [
    "rossm_train = dict(list(train.groupby('Store')))\n",
    "rossm_test = dict(list(test.groupby('Store')))"
   ]
  },
  {
   "cell_type": "code",
   "execution_count": 8,
   "metadata": {},
   "outputs": [],
   "source": [
    "a1 = train.columns\n",
    "a2 = ['Date','Sales','Customers','DayOfWeek']\n",
    "a1 = [f for f in a1 if f not in a2]"
   ]
  },
  {
   "cell_type": "code",
   "execution_count": 9,
   "metadata": {},
   "outputs": [],
   "source": [
    "\n",
    "def ToWeight(y):\n",
    "    w = np.zeros(y.shape, dtype=float)\n",
    "    ind = y != 0\n",
    "    w[ind] = 1./(y[ind]**2)\n",
    "    return w\n",
    "\n",
    "def rmspe(yhat, y):\n",
    "    w = ToWeight(y)\n",
    "    rmspe = np.sqrt(np.mean( w * (y - yhat)**2 ))\n",
    "    return rmspe\n",
    "\n",
    "def rmspe_xg(yhat, y):\n",
    "    # y = y.values\n",
    "    y = y.get_label()\n",
    "    y = np.exp(y) - 1\n",
    "    yhat = np.exp(yhat) - 1\n",
    "    w = ToWeight(y)\n",
    "    rmspe = np.sqrt(np.mean(w * (y - yhat)**2))\n",
    "    return \"rmspe\", rmspe\n"
   ]
  },
  {
   "cell_type": "markdown",
   "metadata": {},
   "source": [
    "# 算法效果对比"
   ]
  },
  {
   "cell_type": "code",
   "execution_count": 11,
   "metadata": {},
   "outputs": [],
   "source": [
    "train=train.fillna(-1)"
   ]
  },
  {
   "cell_type": "code",
   "execution_count": 14,
   "metadata": {
    "scrolled": true
   },
   "outputs": [
    {
     "name": "stdout",
     "output_type": "stream",
     "text": [
      "LinearRegression 0.48695183060797914\n",
      "RandomForestRegressor 0.2777938516882318\n",
      "DecisionTreeRegressor 0.35059177563694827\n",
      "XGboost 0.4455036836188242\n"
     ]
    }
   ],
   "source": [
    "\n",
    "y = train['Sales']\n",
    "x = train[a1]\n",
    "X_train,X_test,y_train,y_test = cross_validation.train_test_split(x,y,test_size=0.3)\n",
    "\n",
    "clf_a = LinearRegression()\n",
    "clf_a.fit(X_train,y_train)\n",
    "clf_a.predict(X_test)\n",
    "print('LinearRegression',rmspe(clf_a.predict(X_test),y_test))\n",
    "clf_b = RandomForestRegressor()\n",
    "clf_b.fit(X_train,y_train)\n",
    "print('RandomForestRegressor',rmspe(clf_b.predict(X_test),y_test))\n",
    "clf_d = tree.DecisionTreeRegressor()\n",
    "clf_d.fit(X_train,y_train)\n",
    "print('DecisionTreeRegressor',rmspe(clf_d.predict(X_test),y_test))\n",
    "clf_e = xgb.XGBRegressor()\n",
    "clf_e.fit(X_train,y_train)\n",
    "print('XGboost',rmspe(clf_e.predict(X_test),y_test))"
   ]
  },
  {
   "cell_type": "code",
   "execution_count": 19,
   "metadata": {},
   "outputs": [
    {
     "name": "stdout",
     "output_type": "stream",
     "text": [
      "[0]\ttrain-rmse:5.28161\teval-rmse:5.27871\ttrain-rmspe:0.908213\teval-rmspe:0.907822\n",
      "Multiple eval metrics have been passed: 'eval-rmspe' will be used for early stopping.\n",
      "\n",
      "Will train until eval-rmspe hasn't improved in 100 rounds.\n",
      "[100]\ttrain-rmse:0.181558\teval-rmse:0.181451\ttrain-rmspe:0.24984\teval-rmspe:0.200369\n",
      "[200]\ttrain-rmse:0.163453\teval-rmse:0.1643\ttrain-rmspe:0.217092\teval-rmspe:0.178964\n",
      "[300]\ttrain-rmse:0.155343\teval-rmse:0.157656\ttrain-rmspe:0.199501\teval-rmspe:0.17021\n",
      "[400]\ttrain-rmse:0.1506\teval-rmse:0.154422\ttrain-rmspe:0.19212\teval-rmspe:0.164565\n",
      "[500]\ttrain-rmse:0.147279\teval-rmse:0.152513\ttrain-rmspe:0.18656\teval-rmspe:0.161988\n",
      "[600]\ttrain-rmse:0.144694\teval-rmse:0.151443\ttrain-rmspe:0.182884\teval-rmspe:0.160675\n",
      "[700]\ttrain-rmse:0.142767\teval-rmse:0.150721\ttrain-rmspe:0.179841\teval-rmspe:0.159627\n",
      "[800]\ttrain-rmse:0.140494\teval-rmse:0.150041\ttrain-rmspe:0.174019\teval-rmspe:0.15857\n",
      "[900]\ttrain-rmse:0.138779\teval-rmse:0.149659\ttrain-rmspe:0.165701\teval-rmspe:0.157836\n",
      "[1000]\ttrain-rmse:0.13725\teval-rmse:0.14932\ttrain-rmspe:0.158998\teval-rmspe:0.157132\n",
      "[1100]\ttrain-rmse:0.135539\teval-rmse:0.148968\ttrain-rmspe:0.157097\teval-rmspe:0.156498\n",
      "[1200]\ttrain-rmse:0.134363\teval-rmse:0.14887\ttrain-rmspe:0.15207\teval-rmspe:0.156139\n",
      "[1300]\ttrain-rmse:0.133195\teval-rmse:0.148717\ttrain-rmspe:0.149651\teval-rmspe:0.155796\n",
      "[1400]\ttrain-rmse:0.132026\teval-rmse:0.148577\ttrain-rmspe:0.146996\teval-rmspe:0.15546\n",
      "[1500]\ttrain-rmse:0.130905\teval-rmse:0.148603\ttrain-rmspe:0.145619\teval-rmspe:0.155171\n",
      "[1600]\ttrain-rmse:0.129783\teval-rmse:0.148398\ttrain-rmspe:0.13992\teval-rmspe:0.154849\n",
      "[1700]\ttrain-rmse:0.128721\teval-rmse:0.148024\ttrain-rmspe:0.138696\teval-rmspe:0.15444\n",
      "[1800]\ttrain-rmse:0.127644\teval-rmse:0.148061\ttrain-rmspe:0.137393\teval-rmspe:0.154202\n",
      "[1900]\ttrain-rmse:0.126833\teval-rmse:0.148032\ttrain-rmspe:0.136343\teval-rmspe:0.154055\n",
      "[2000]\ttrain-rmse:0.125969\teval-rmse:0.147924\ttrain-rmspe:0.134513\teval-rmspe:0.153856\n",
      "[2100]\ttrain-rmse:0.124915\teval-rmse:0.147873\ttrain-rmspe:0.133589\teval-rmspe:0.153724\n",
      "[2200]\ttrain-rmse:0.124042\teval-rmse:0.147779\ttrain-rmspe:0.131772\teval-rmspe:0.153569\n",
      "[2300]\ttrain-rmse:0.123046\teval-rmse:0.147653\ttrain-rmspe:0.130455\teval-rmspe:0.153301\n",
      "[2400]\ttrain-rmse:0.122281\teval-rmse:0.147513\ttrain-rmspe:0.129395\teval-rmspe:0.153169\n",
      "[2500]\ttrain-rmse:0.121624\teval-rmse:0.147481\ttrain-rmspe:0.127875\teval-rmspe:0.15311\n",
      "[2600]\ttrain-rmse:0.120999\teval-rmse:0.147426\ttrain-rmspe:0.126901\teval-rmspe:0.153005\n",
      "[2700]\ttrain-rmse:0.120362\teval-rmse:0.147384\ttrain-rmspe:0.126044\teval-rmspe:0.152956\n",
      "[2800]\ttrain-rmse:0.119645\teval-rmse:0.147638\ttrain-rmspe:0.12509\teval-rmspe:0.152899\n",
      "[2900]\ttrain-rmse:0.119033\teval-rmse:0.147415\ttrain-rmspe:0.124333\teval-rmspe:0.152857\n",
      "[2999]\ttrain-rmse:0.118466\teval-rmse:0.147361\ttrain-rmspe:0.123624\teval-rmspe:0.152735\n"
     ]
    }
   ],
   "source": [
    "seed=123\n",
    "num_round = 3000\n",
    "X_train, X_test, y_train, y_test = train_test_split(train[a1],train['Sales'],test_size=0.1, random_state=seed)\n",
    "y_train = np.log1p(y_train)\n",
    "y_test = np.log1p(y_test)\n",
    "dtrain = xgb.DMatrix(X_train, y_train)\n",
    "dvalid = xgb.DMatrix(X_test, y_test)\n",
    "watchlist = [(dtrain, 'train'), (dvalid, 'eval')]\n",
    "learning_rate = 0.001\n",
    "param = {   'seed':seed,\n",
    "            'tree_method':'gpu_hist'}\n",
    "\n",
    "bst = xgb.train(parm, dtrain, num_round, watchlist, feval=rmspe_xg, verbose_eval=100, early_stopping_rounds=100)"
   ]
  },
  {
   "cell_type": "markdown",
   "metadata": {},
   "source": [
    "### 从单个店数据查看xgboost算法评分最高\n",
    "\n"
   ]
  },
  {
   "cell_type": "code",
   "execution_count": 72,
   "metadata": {
    "scrolled": false
   },
   "outputs": [
    {
     "data": {
      "image/png": "[encoded data removed]",
      "text/plain": [
       "<matplotlib.figure.Figure at 0x7f7bffaf1e90>"
      ]
     },
     "metadata": {},
     "output_type": "display_data"
    }
   ],
   "source": [
    "importances = clf_b.feature_importances_\n",
    "vs.feature_plot(importances, X_train, y_train)  ##特征重要性查看"
   ]
  },
  {
   "cell_type": "code",
   "execution_count": 74,
   "metadata": {
    "collapsed": true
   },
   "outputs": [],
   "source": [
    "Linear1 = []\n",
    "random1 = []\n",
    "tree1 = []\n",
    "xgb1 = []"
   ]
  },
  {
   "cell_type": "code",
   "execution_count": 63,
   "metadata": {
    "collapsed": true
   },
   "outputs": [],
   "source": [
    "for i in rossm_test:\n",
    "    store = rossm_train[i]\n",
    "    y = store['Sales']\n",
    "    x = store.drop(['Sales','Store','Customers','Date','StateHoliday'],axis=1)\n",
    "    X_train,X_test,y_train,y_test = cross_validation.train_test_split(x,y,test_size=0.3)\n",
    "\n",
    "    clf_a = LinearRegression()\n",
    "    clf_a.fit(X_train,y_train)\n",
    "    clf_a.predict(X_test)\n",
    "    Linear1.append(r2_score(clf_a.predict(X_test),y_test))\n",
    "#     al = al+rmspe(clf_a.predict(X_test),y_test)\n",
    "    \n",
    "    clf_b = RandomForestRegressor()\n",
    "    clf_b.fit(X_train,y_train)\n",
    "    random1.append(r2_score(clf_b.predict(X_test),y_test))\n",
    "#     random2.append(round(rmspe(clf_b.predict(X_test),y_test),8))\n",
    "    clf_d = tree.DecisionTreeRegressor()\n",
    "    clf_d.fit(X_train,y_train)\n",
    "    tree1.append(r2_score(clf_d.predict(X_test),y_test))\n",
    "#     tree2.append(round(rmspe(clf_d.predict(X_test),y_test),8))\n",
    "    clf_e = xgb.XGBRegressor()\n",
    "    clf_e.fit(X_train,y_train)\n",
    "    xgb1.append(r2_score(clf_e.predict(X_test),y_test))\n",
    "#     xgb2.append(round(rmspe(clf_e.predict(X_test),y_test),8))"
   ]
  },
  {
   "cell_type": "code",
   "execution_count": 64,
   "metadata": {},
   "outputs": [
    {
     "name": "stdout",
     "output_type": "stream",
     "text": [
      "0.246445535257 0.580155616319 0.50329742448 0.626765270346\n"
     ]
    }
   ],
   "source": [
    "print np.mean(Linear1),np.mean(random1),np.mean(tree1),np.mean(xgb1)"
   ]
  },
  {
   "cell_type": "markdown",
   "metadata": {},
   "source": [
    "### 从各个店到综合评分可以看出xgboost得分也是最高到"
   ]
  },
  {
   "cell_type": "code",
   "execution_count": 65,
   "metadata": {},
   "outputs": [
    {
     "data": {
      "image/png": "[encoded data removed]",
      "text/plain": [
       "<matplotlib.figure.Figure at 0x7f7c0139c110>"
      ]
     },
     "metadata": {},
     "output_type": "display_data"
    }
   ],
   "source": [
    "importances = clf_b.feature_importances_\n",
    "vs.feature_plot(importances, X_train, y_train)"
   ]
  },
  {
   "cell_type": "code",
   "execution_count": 83,
   "metadata": {},
   "outputs": [
    {
     "data": {
      "text/plain": [
       "Index([u'Open', u'Promo', u'SchoolHoliday', u'StoreType', u'Assortment',\n",
       "       u'CompetitionDistance', u'CompetitionOpenSinceMonth',\n",
       "       u'CompetitionOpenSinceYear', u'Promo2', u'Promo2SinceWeek',\n",
       "       u'Promo2SinceYear', u'PromoInterval', u'year', u'month', u'day',\n",
       "       u'promojan', u'promofeb', u'promomar', u'promoapr', u'promomay',\n",
       "       u'promojun', u'promojul', u'promoaug', u'promosep', u'promooct',\n",
       "       u'promonov', u'promodec', u'Day_1', u'Day_2', u'Day_3', u'Day_4',\n",
       "       u'Day_5', u'Day_6'],\n",
       "      dtype='object')"
      ]
     },
     "execution_count": 83,
     "metadata": {},
     "output_type": "execute_result"
    }
   ],
   "source": [
    "x.columns"
   ]
  },
  {
   "cell_type": "code",
   "execution_count": 84,
   "metadata": {},
   "outputs": [
    {
     "name": "stdout",
     "output_type": "stream",
     "text": [
      "('LinearRegression', -2.6091204389900047)\n",
      "('RandomForestRegressor', 0.87969411370509409)\n",
      "('DecisionTreeRegressor', 0.81536821084488542)\n",
      "('XGboost', -1.3463269129403068)\n"
     ]
    }
   ],
   "source": [
    "store = train\n",
    "y = store['Sales']\n",
    "x = store.drop(['Sales','Store','Customers','Date','StateHoliday','DayOfWeek','PromoInterval'],axis=1)\n",
    "X_train,X_test,y_train,y_test = cross_validation.train_test_split(x,y,test_size=0.3)\n",
    "\n",
    "clf_a = LinearRegression()\n",
    "clf_a.fit(X_train,y_train)\n",
    "clf_a.predict(X_test)\n",
    "print('LinearRegression',r2_score(clf_a.predict(X_test),y_test))\n",
    "clf_b = RandomForestRegressor()\n",
    "clf_b.fit(X_train,y_train)\n",
    "print('RandomForestRegressor',r2_score(clf_b.predict(X_test),y_test))\n",
    "clf_d = tree.DecisionTreeRegressor()\n",
    "clf_d.fit(X_train,y_train)\n",
    "print('DecisionTreeRegressor',r2_score(clf_d.predict(X_test),y_test))\n",
    "clf_e = xgb.XGBRegressor()\n",
    "clf_e.fit(X_train,y_train)\n",
    "print('XGboost',r2_score(clf_e.predict(X_test),y_test))"
   ]
  },
  {
   "cell_type": "markdown",
   "metadata": {},
   "source": [
    "### 根据对比评分结果发现RandomForestRegressor模型效果最好"
   ]
  },
  {
   "cell_type": "code",
   "execution_count": 86,
   "metadata": {},
   "outputs": [
    {
     "data": {
      "image/png": "[encoded data removed]",
      "text/plain": [
       "<matplotlib.figure.Figure at 0x7f7c01b45790>"
      ]
     },
     "metadata": {},
     "output_type": "display_data"
    }
   ],
   "source": [
    "importances = clf_b.feature_importances_\n",
    "vs.feature_plot(importances, X_train, y_train)"
   ]
  },
  {
   "cell_type": "markdown",
   "metadata": {},
   "source": [
    "### 最终选择xgboost和RandomForestRegressor两个算法进行最终选择"
   ]
  },
  {
   "cell_type": "code",
   "execution_count": null,
   "metadata": {
    "collapsed": true
   },
   "outputs": [],
   "source": []
  }
 ],
 "metadata": {
  "anaconda-cloud": {},
  "kernelspec": {
   "display_name": "Python 3",
   "language": "python",
   "name": "python3"
  },
  "language_info": {
   "codemirror_mode": {
    "name": "ipython",
    "version": 3
   },
   "file_extension": ".py",
   "mimetype": "text/x-python",
   "name": "python",
   "nbconvert_exporter": "python",
   "pygments_lexer": "ipython3",
   "version": "3.6.5"
  }
 },
 "nbformat": 4,
 "nbformat_minor": 1
}
