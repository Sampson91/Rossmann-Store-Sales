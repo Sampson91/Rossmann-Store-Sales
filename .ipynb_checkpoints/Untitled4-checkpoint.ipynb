{
 "cells": [
  {
   "cell_type": "code",
   "execution_count": 3,
   "metadata": {},
   "outputs": [],
   "source": [
    "import pandas as pd\n",
    "import numpy as np\n",
    "import matplotlib.pyplot as plt\n",
    "import seaborn as sns\n",
    "\n",
    "import visuals as vs\n",
    "import datetime\n",
    "import csv\n",
    "# import xgboost as xgb\n",
    "import itertools\n",
    "import os\n",
    "import warnings\n",
    "warnings.filterwarnings('ignore')\n",
    "\n",
    "%matplotlib inline\n",
    "from sklearn.preprocessing import StandardScaler,LabelEncoder\n",
    "from sklearn.base import TransformerMixin\n",
    "from sklearn import cross_validation\n",
    "from matplotlib import pylab as plt\n",
    "plot = True\n",
    "goal = 'Sales'\n",
    "myid = 'Id'\n",
    "from sklearn.cross_validation import train_test_split\n",
    "from sklearn import tree\n",
    "from sklearn.linear_model import LinearRegression\n",
    "from sklearn.linear_model import LogisticRegression\n",
    "from sklearn.svm import SVC, LinearSVC\n",
    "from sklearn.ensemble import RandomForestRegressor\n",
    "from sklearn.neighbors import KNeighborsClassifier\n",
    "from sklearn.naive_bayes import GaussianNB"
   ]
  },
  {
   "cell_type": "code",
   "execution_count": 4,
   "metadata": {},
   "outputs": [
    {
     "data": {
      "text/html": [
       "<div>\n",
       "<style>\n",
       "    .dataframe thead tr:only-child th {\n",
       "        text-align: right;\n",
       "    }\n",
       "\n",
       "    .dataframe thead th {\n",
       "        text-align: left;\n",
       "    }\n",
       "\n",
       "    .dataframe tbody tr th {\n",
       "        vertical-align: top;\n",
       "    }\n",
       "</style>\n",
       "<table border=\"1\" class=\"dataframe\">\n",
       "  <thead>\n",
       "    <tr style=\"text-align: right;\">\n",
       "      <th></th>\n",
       "      <th>Store</th>\n",
       "      <th>DayOfWeek</th>\n",
       "      <th>Date</th>\n",
       "      <th>Sales</th>\n",
       "      <th>Customers</th>\n",
       "      <th>Open</th>\n",
       "      <th>Promo</th>\n",
       "      <th>StateHoliday</th>\n",
       "      <th>SchoolHoliday</th>\n",
       "    </tr>\n",
       "  </thead>\n",
       "  <tbody>\n",
       "    <tr>\n",
       "      <th>0</th>\n",
       "      <td>1</td>\n",
       "      <td>5</td>\n",
       "      <td>2015-07-31</td>\n",
       "      <td>5263</td>\n",
       "      <td>555</td>\n",
       "      <td>1</td>\n",
       "      <td>1</td>\n",
       "      <td>0</td>\n",
       "      <td>1</td>\n",
       "    </tr>\n",
       "    <tr>\n",
       "      <th>1</th>\n",
       "      <td>2</td>\n",
       "      <td>5</td>\n",
       "      <td>2015-07-31</td>\n",
       "      <td>6064</td>\n",
       "      <td>625</td>\n",
       "      <td>1</td>\n",
       "      <td>1</td>\n",
       "      <td>0</td>\n",
       "      <td>1</td>\n",
       "    </tr>\n",
       "    <tr>\n",
       "      <th>2</th>\n",
       "      <td>3</td>\n",
       "      <td>5</td>\n",
       "      <td>2015-07-31</td>\n",
       "      <td>8314</td>\n",
       "      <td>821</td>\n",
       "      <td>1</td>\n",
       "      <td>1</td>\n",
       "      <td>0</td>\n",
       "      <td>1</td>\n",
       "    </tr>\n",
       "    <tr>\n",
       "      <th>3</th>\n",
       "      <td>4</td>\n",
       "      <td>5</td>\n",
       "      <td>2015-07-31</td>\n",
       "      <td>13995</td>\n",
       "      <td>1498</td>\n",
       "      <td>1</td>\n",
       "      <td>1</td>\n",
       "      <td>0</td>\n",
       "      <td>1</td>\n",
       "    </tr>\n",
       "    <tr>\n",
       "      <th>4</th>\n",
       "      <td>5</td>\n",
       "      <td>5</td>\n",
       "      <td>2015-07-31</td>\n",
       "      <td>4822</td>\n",
       "      <td>559</td>\n",
       "      <td>1</td>\n",
       "      <td>1</td>\n",
       "      <td>0</td>\n",
       "      <td>1</td>\n",
       "    </tr>\n",
       "  </tbody>\n",
       "</table>\n",
       "</div>"
      ],
      "text/plain": [
       "   Store  DayOfWeek        Date  Sales  Customers  Open  Promo StateHoliday  \\\n",
       "0      1          5  2015-07-31   5263        555     1      1            0   \n",
       "1      2          5  2015-07-31   6064        625     1      1            0   \n",
       "2      3          5  2015-07-31   8314        821     1      1            0   \n",
       "3      4          5  2015-07-31  13995       1498     1      1            0   \n",
       "4      5          5  2015-07-31   4822        559     1      1            0   \n",
       "\n",
       "   SchoolHoliday  \n",
       "0              1  \n",
       "1              1  \n",
       "2              1  \n",
       "3              1  \n",
       "4              1  "
      ]
     },
     "execution_count": 4,
     "metadata": {},
     "output_type": "execute_result"
    }
   ],
   "source": [
    "sales = pd.read_csv('./train.csv')\n",
    "test = pd.read_csv('./test.csv')\n",
    "sales.head()"
   ]
  },
  {
   "cell_type": "code",
   "execution_count": 5,
   "metadata": {},
   "outputs": [
    {
     "name": "stdout",
     "output_type": "stream",
     "text": [
      "<class 'pandas.core.frame.DataFrame'>\n",
      "RangeIndex: 1115 entries, 0 to 1114\n",
      "Data columns (total 10 columns):\n",
      "Store                        1115 non-null int64\n",
      "StoreType                    1115 non-null object\n",
      "Assortment                   1115 non-null object\n",
      "CompetitionDistance          1112 non-null float64\n",
      "CompetitionOpenSinceMonth    761 non-null float64\n",
      "CompetitionOpenSinceYear     761 non-null float64\n",
      "Promo2                       1115 non-null int64\n",
      "Promo2SinceWeek              571 non-null float64\n",
      "Promo2SinceYear              571 non-null float64\n",
      "PromoInterval                571 non-null object\n",
      "dtypes: float64(5), int64(2), object(3)\n",
      "memory usage: 87.2+ KB\n"
     ]
    }
   ],
   "source": [
    "#商店数据查看\n",
    "store = pd.read_csv('./store.csv')\n",
    "rossm = pd.merge(sales,store,on='Store')\n",
    "rossm_test = pd.merge(test,store,on='Store')\n",
    "store.head()\n",
    "store.info()"
   ]
  },
  {
   "cell_type": "code",
   "execution_count": 4,
   "metadata": {},
   "outputs": [
    {
     "data": {
      "text/html": [
       "<div>\n",
       "<table border=\"1\" class=\"dataframe\">\n",
       "  <thead>\n",
       "    <tr style=\"text-align: right;\">\n",
       "      <th></th>\n",
       "      <th>Store</th>\n",
       "      <th>DayOfWeek</th>\n",
       "      <th>Date</th>\n",
       "      <th>Sales</th>\n",
       "      <th>Customers</th>\n",
       "      <th>Open</th>\n",
       "      <th>Promo</th>\n",
       "      <th>StateHoliday</th>\n",
       "      <th>SchoolHoliday</th>\n",
       "      <th>Year</th>\n",
       "      <th>Month</th>\n",
       "      <th>year_month</th>\n",
       "    </tr>\n",
       "  </thead>\n",
       "  <tbody>\n",
       "    <tr>\n",
       "      <th>0</th>\n",
       "      <td>1</td>\n",
       "      <td>5</td>\n",
       "      <td>2015-07</td>\n",
       "      <td>5263</td>\n",
       "      <td>555</td>\n",
       "      <td>1</td>\n",
       "      <td>1</td>\n",
       "      <td>0</td>\n",
       "      <td>1</td>\n",
       "      <td>2015</td>\n",
       "      <td>7</td>\n",
       "      <td>2015-07</td>\n",
       "    </tr>\n",
       "    <tr>\n",
       "      <th>1</th>\n",
       "      <td>2</td>\n",
       "      <td>5</td>\n",
       "      <td>2015-07</td>\n",
       "      <td>6064</td>\n",
       "      <td>625</td>\n",
       "      <td>1</td>\n",
       "      <td>1</td>\n",
       "      <td>0</td>\n",
       "      <td>1</td>\n",
       "      <td>2015</td>\n",
       "      <td>7</td>\n",
       "      <td>2015-07</td>\n",
       "    </tr>\n",
       "    <tr>\n",
       "      <th>2</th>\n",
       "      <td>3</td>\n",
       "      <td>5</td>\n",
       "      <td>2015-07</td>\n",
       "      <td>8314</td>\n",
       "      <td>821</td>\n",
       "      <td>1</td>\n",
       "      <td>1</td>\n",
       "      <td>0</td>\n",
       "      <td>1</td>\n",
       "      <td>2015</td>\n",
       "      <td>7</td>\n",
       "      <td>2015-07</td>\n",
       "    </tr>\n",
       "    <tr>\n",
       "      <th>3</th>\n",
       "      <td>4</td>\n",
       "      <td>5</td>\n",
       "      <td>2015-07</td>\n",
       "      <td>13995</td>\n",
       "      <td>1498</td>\n",
       "      <td>1</td>\n",
       "      <td>1</td>\n",
       "      <td>0</td>\n",
       "      <td>1</td>\n",
       "      <td>2015</td>\n",
       "      <td>7</td>\n",
       "      <td>2015-07</td>\n",
       "    </tr>\n",
       "    <tr>\n",
       "      <th>4</th>\n",
       "      <td>5</td>\n",
       "      <td>5</td>\n",
       "      <td>2015-07</td>\n",
       "      <td>4822</td>\n",
       "      <td>559</td>\n",
       "      <td>1</td>\n",
       "      <td>1</td>\n",
       "      <td>0</td>\n",
       "      <td>1</td>\n",
       "      <td>2015</td>\n",
       "      <td>7</td>\n",
       "      <td>2015-07</td>\n",
       "    </tr>\n",
       "  </tbody>\n",
       "</table>\n",
       "</div>"
      ],
      "text/plain": [
       "   Store  DayOfWeek     Date  Sales  Customers  Open  Promo StateHoliday  \\\n",
       "0      1          5  2015-07   5263        555     1      1            0   \n",
       "1      2          5  2015-07   6064        625     1      1            0   \n",
       "2      3          5  2015-07   8314        821     1      1            0   \n",
       "3      4          5  2015-07  13995       1498     1      1            0   \n",
       "4      5          5  2015-07   4822        559     1      1            0   \n",
       "\n",
       "   SchoolHoliday  Year  Month year_month  \n",
       "0              1  2015      7    2015-07  \n",
       "1              1  2015      7    2015-07  \n",
       "2              1  2015      7    2015-07  \n",
       "3              1  2015      7    2015-07  \n",
       "4              1  2015      7    2015-07  "
      ]
     },
     "execution_count": 4,
     "metadata": {},
     "output_type": "execute_result"
    }
   ],
   "source": [
    "sales['Year'] = sales['Date'].apply(lambda x: int(str(x)[:4]))\n",
    "sales['Month'] = sales['Date'].apply(lambda x:int(str(x)[5:7]))\n",
    "sales['year_month'] =sales['Date'].apply(lambda x:str(x)[:7])\n",
    "sales['Date'] = sales['Date'].apply(lambda x: (str(x)[:7]))\n",
    "test['Year']  = test['Date'].apply(lambda x: int(str(x)[:4]))\n",
    "test['Month'] = test['Date'].apply(lambda x: int(str(x)[5:7]))\n",
    "test['Date']  = test['Date'].apply(lambda x: (str(x)[:7]))\n",
    "sales.head()"
   ]
  },
  {
   "cell_type": "raw",
   "metadata": {},
   "source": [
    "# start_store=1\n",
    "# end_store = 6\n",
    "# fig,(axis1) = plt.subplots(1,1,figsize=(15,5))\n",
    "# sns.heatmap(store_piv[list(range(start_store,end_store+1))].corr(),annot=True)\n",
    "rossm[rossm['Promo2']!=0].head()"
   ]
  },
  {
   "cell_type": "code",
   "execution_count": 6,
   "metadata": {
    "collapsed": true
   },
   "outputs": [],
   "source": [
    "def get_data():\n",
    "    store = pd.read_csv('./store.csv')\n",
    "    train_org = pd.read_csv('./train.csv',dtype={'StateHoliday':pd.np.string_})\n",
    "    test_org = pd.read_csv('./test.csv',dtype={'StateHoliday':pd.np.string_})\n",
    "    train = pd.merge(train_org,store,on='Store',how='left')\n",
    "    test = pd.merge(test_org,store,on='Store',how='left')\n",
    "    \n",
    "    features1 = ['Id', 'Store', 'DayOfWeek', 'Date', 'Open', 'Promo', 'StateHoliday', \n",
    "                 'SchoolHoliday', 'StoreType', 'Assortment', 'CompetitionDistance', \n",
    "                 'CompetitionOpenSinceMonth', 'CompetitionOpenSinceYear', 'Promo2', \n",
    "                 'Promo2SinceWeek', 'Promo2SinceYear', 'PromoInterval']\n",
    "\n",
    "    feature_non = ['Promo','Store','Date', 'StateHoliday','SchoolHoliday', 'StoreType', 'Assortment', 'Promo2', 'PromoInterval']\n",
    "    return (train,test,features1,feature_non)"
   ]
  },
  {
   "cell_type": "code",
   "execution_count": 9,
   "metadata": {},
   "outputs": [],
   "source": [
    "feature=['Store','DayOfWeek','Sales','Open','Promo','StateHoliday','SchoolHoliday','StoreType','Assortment','CompetitionDistance','promo_competer']\n",
    "feature1 =['Store','DayOfWeek','Open','Promo','StateHoliday','SchoolHoliday','StoreType','Assortment','CompetitionDistance','promo_competer']\n",
    "rossm['promo_competer']=0\n",
    "rossm['promo_competer'] = rossm[rossm['Promo2']==1]['Promo2SinceYear']-rossm[rossm['Promo2']==1]['CompetitionOpenSinceYear']+(rossm[rossm['Promo2']==1]['Promo2SinceWeek']/52)-(rossm[rossm['Promo2']==1]['CompetitionOpenSinceMonth']/12)\n",
    "rossm_test['promo_competer'] = rossm_test[rossm_test['Promo2']==1]['Promo2SinceYear']-rossm_test[rossm_test['Promo2']==1]['CompetitionOpenSinceYear']+(rossm_test[rossm_test['Promo2']==1]['Promo2SinceWeek']/52)-(rossm_test[rossm_test['Promo2']==1]['CompetitionOpenSinceMonth']/12)\n",
    "rossm[feature].head(1000)\n"
   ]
  },
  {
   "cell_type": "code",
   "execution_count": 8,
   "metadata": {},
   "outputs": [],
   "source": [
    "train,test,features,features_non_numeric = get_data()\n",
    "train,test,features,features_non_numeric = process_data(train,test,features,features_non_numeric)\n",
    "train.drop(['Open','Date','DayOfWeek'],axis=1,inplace=True)\n",
    "test.drop(['Open','Date','DayOfWeek','Id'],axis=1,inplace=True)"
   ]
  },
  {
   "cell_type": "code",
   "execution_count": 9,
   "metadata": {
    "collapsed": true
   },
   "outputs": [],
   "source": [
    "rossm_train = dict(list(train.groupby('Store')))\n",
    "rossm_test = dict(list(test.groupby('Store')))"
   ]
  },
  {
   "cell_type": "code",
   "execution_count": 64,
   "metadata": {},
   "outputs": [
    {
     "ename": "SyntaxError",
     "evalue": "unexpected EOF while parsing (<ipython-input-64-71ddfe60ac0e>, line 1)",
     "output_type": "error",
     "traceback": [
      "\u001b[0;36m  File \u001b[0;32m\"<ipython-input-64-71ddfe60ac0e>\"\u001b[0;36m, line \u001b[0;32m1\u001b[0m\n\u001b[0;31m    for i in rossm_train:\u001b[0m\n\u001b[0m                         ^\u001b[0m\n\u001b[0;31mSyntaxError\u001b[0m\u001b[0;31m:\u001b[0m unexpected EOF while parsing\n"
     ]
    }
   ],
   "source": [
    "for i in rossm_test:\n",
    "    store = rossm_train[i]\n",
    "    y = store['Sales']\n",
    "    x = store.drop(['Sales','Store'],axis=1)\n",
    "    X_trian,X_test,y_train,y_test = cross_validation.train_test_split(x,y,test_size=0.3)\n",
    "  "
   ]
  },
  {
   "cell_type": "code",
   "execution_count": 34,
   "metadata": {},
   "outputs": [],
   "source": [
    "from __future__ import division \n",
    "\n",
    "greater_percent = 0.5\n",
    "\n",
    "from sklearn.metrics import accuracy_score, fbeta_score, precision_score, recall_score\n",
    "B = 0.5\n",
    "accuracy = greater_percent/100\n",
    "recall=1\n",
    "# TODO： 使用上面的公式，并设置beta=0.5计算F-score\n",
    "fscore = (1+B*B)*(accuracy*recall)/((B*B*accuracy)+recall) "
   ]
  },
  {
   "cell_type": "code",
   "execution_count": 56,
   "metadata": {
    "scrolled": true
   },
   "outputs": [
    {
     "name": "stdout",
     "output_type": "stream",
     "text": [
      "LinearRegression 0.95624359627\n",
      "RandomForestRegressor 0.954630536703\n",
      "LogisticRegression 0.459199233524\n",
      "DecisionTreeRegressor 0.918038277283\n"
     ]
    }
   ],
   "source": [
    "store = rossm_train[2]\n",
    "y = store['Sales']\n",
    "x = store.drop(['Sales','Store'],axis=1)\n",
    "X_train,X_test,y_train,y_test = cross_validation.train_test_split(x,y,test_size=0.3)\n",
    "\n",
    "clf_a = LinearRegression()\n",
    "clf_a.fit(X_train,y_train)\n",
    "clf_a.predict(X_test)\n",
    "print('LinearRegression',r2_score(clf_a.predict(X_test),y_test))\n",
    "clf_b = RandomForestRegressor()\n",
    "clf_b.fit(X_train,y_train)\n",
    "print('RandomForestRegressor',r2_score(clf_b.predict(X_test),y_test))\n",
    "clf_c = LogisticRegression()\n",
    "clf_c.fit(X_train,y_train)\n",
    "print('LogisticRegression',r2_score(clf_c.predict(X_test),y_test))\n",
    "clf_d = tree.DecisionTreeRegressor()\n",
    "clf_d.fit(X_train,y_train)\n",
    "print('DecisionTreeRegressor',r2_score(clf_d.predict(X_test),y_test))"
   ]
  },
  {
   "cell_type": "code",
   "execution_count": 54,
   "metadata": {
    "scrolled": false
   },
   "outputs": [
    {
     "name": "stdout",
     "output_type": "stream",
     "text": [
      "LinearRegression trained on 5 samples.\n",
      "LinearRegression trained on 54 samples.\n",
      "LinearRegression trained on 545 samples.\n",
      "RandomForestRegressor trained on 5 samples.\n",
      "RandomForestRegressor trained on 54 samples.\n",
      "RandomForestRegressor trained on 545 samples.\n",
      "GaussianNB trained on 5 samples.\n",
      "GaussianNB trained on 54 samples.\n",
      "GaussianNB trained on 545 samples.\n"
     ]
    }
   ],
   "source": [
    "from sklearn.linear_model import LinearRegression\n",
    "from sklearn.linear_model import LogisticRegression\n",
    "from sklearn.svm import SVC, LinearSVC\n",
    "from sklearn.ensemble import RandomForestRegressor\n",
    "from sklearn.naive_bayes import GaussianNB\n",
    "from sklearn import tree\n",
    "clf_a = LinearRegression()\n",
    "clf_b = RandomForestRegressor()\n",
    "clf_c = GaussianNB()\n",
    "\n",
    "#计算1%，10%，100%到训练数据分别对应多少点\n",
    "samples_1 = int(len(X_train)*0.01)\n",
    "samples_10 = int(len(X_train)*0.1)\n",
    "samples_100 = int(len(X_train))\n",
    "result = {}\n",
    "\n",
    "for clf in [clf_a,clf_b,clf_c]:\n",
    "    clf_name = clf.__class__.__name__\n",
    "    result[clf_name] = {}\n",
    "    for i,samples in enumerate([samples_1,samples_10,samples_100]):\n",
    "        result[clf_name][i] = train_predict(clf,samples,X_train,y_train,X_test,y_test)"
   ]
  },
  {
   "cell_type": "code",
   "execution_count": null,
   "metadata": {
    "collapsed": true
   },
   "outputs": [],
   "source": []
  }
 ],
 "metadata": {
  "anaconda-cloud": {},
  "kernelspec": {
   "display_name": "Python 3",
   "language": "python",
   "name": "python3"
  },
  "language_info": {
   "codemirror_mode": {
    "name": "ipython",
    "version": 3
   },
   "file_extension": ".py",
   "mimetype": "text/x-python",
   "name": "python",
   "nbconvert_exporter": "python",
   "pygments_lexer": "ipython3",
   "version": "3.6.1"
  }
 },
 "nbformat": 4,
 "nbformat_minor": 1
}
