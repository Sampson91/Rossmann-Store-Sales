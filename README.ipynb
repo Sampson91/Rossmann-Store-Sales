{
 "cells": [
  {
   "cell_type": "markdown",
   "metadata": {},
   "source": [
    "## 本项目为为Rossmann Store Sales建立销售预测模型"
   ]
  },
  {
   "cell_type": "markdown",
   "metadata": {},
   "source": [
    "#### 模型建立分为5个部分"
   ]
  },
  {
   "cell_type": "markdown",
   "metadata": {},
   "source": [
    "##### 1.数据探索\n",
    "该部分参考Omar El GabryA(https://www.kaggle.com/omarelgabry/a-journey-through-rossmann-stores) 的内容进行数据探索\n",
    "\n",
    "\n",
    "##### 2.算法比较\n",
    "通过对LinearRegression，RandomForestRegressor，DecisionTreeRegressor，XGboost四个算法比较进行算法性能比较\n",
    "\n",
    "##### 3.算法选择\n",
    "通过对RandomForestRegressor，XGboost算法进行参数调优后进行比较，最终选择xgboost\n",
    "\n",
    "##### 4.XGboost算法调优\n",
    "在全量数据上对xgboost各个参数进行调优\n",
    "\n",
    "##### 5.参数建模\n",
    "根据最优参数来对测试数据进行预测"
   ]
  }
 ],
 "metadata": {
  "kernelspec": {
   "display_name": "Python 2",
   "language": "python",
   "name": "python2"
  },
  "language_info": {
   "codemirror_mode": {
    "name": "ipython",
    "version": 2
   },
   "file_extension": ".py",
   "mimetype": "text/x-python",
   "name": "python",
   "nbconvert_exporter": "python",
   "pygments_lexer": "ipython2",
   "version": "2.7.13"
  }
 },
 "nbformat": 4,
 "nbformat_minor": 2
}
